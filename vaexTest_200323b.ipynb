{
  "nbformat": 4,
  "nbformat_minor": 0,
  "metadata": {
    "colab": {
      "name": "vaexTest_200323a.ipynb",
      "provenance": [],
      "collapsed_sections": [],
      "toc_visible": true,
      "machine_shape": "hm"
    },
    "kernelspec": {
      "display_name": "Python 3",
      "language": "python",
      "name": "python3"
    },
    "language_info": {
      "codemirror_mode": {
        "name": "ipython",
        "version": 3
      },
      "file_extension": ".py",
      "mimetype": "text/x-python",
      "name": "python",
      "nbconvert_exporter": "python",
      "pygments_lexer": "ipython3",
      "version": "3.7.6"
    }
  },
  "cells": [
    {
      "cell_type": "code",
      "metadata": {
        "id": "xGdcL-0zFXX9",
        "colab_type": "code",
        "outputId": "9418a5fa-198f-4113-82e7-6a46a5ec9a40",
        "colab": {
          "base_uri": "https://localhost:8080/",
          "height": 126
        }
      },
      "source": [
        "from google.colab import drive\n",
        "drive.mount('/content/gdrive')"
      ],
      "execution_count": 1
    },
    {
      "cell_type": "markdown",
      "metadata": {
        "colab_type": "text",
        "id": "if7xNDrupx6q"
      },
      "source": [
        "# vaexのインストール"
      ]
    },
    {
      "cell_type": "code",
      "metadata": {
        "colab_type": "code",
        "id": "O9DH0hALpTPv",
        "outputId": "2d8ef667-89ca-47db-af06-eb6953621fff",
        "colab": {
          "base_uri": "https://localhost:8080/",
          "height": 1000
        }
      },
      "source": [
        "!pip install vaex"
      ],
      "execution_count": 2,
      "outputs": [
        {
          "output_type": "stream",
          "text": [
            "Collecting vaex\n",
            "  Downloading https://files.pythonhosted.org/packages/75/f8/dcc54ab76c38bf0ac05005050d671da1c96ddeed9035993e160a368abf3a/vaex-2.6.1.tar.gz\n",
            "Collecting vaex-core<2,>=1.5.0\n",
            "\u001b[?25l  Downloading https://files.pythonhosted.org/packages/ec/2d/d592513584a5d60351bdb4ac3fa158c6b8de9726181207a9bdf776a6f37d/vaex_core-1.5.0-cp36-cp36m-manylinux1_x86_64.whl (2.2MB)\n",
            "\u001b[K     |████████████████████████████████| 2.2MB 2.8MB/s \n",
            "\u001b[?25hCollecting vaex-viz<0.4,>=0.3.8\n",
            "  Downloading https://files.pythonhosted.org/packages/4a/6c/301aac6cef5d262eeffdd286fff55b63f9e7dcff51825a236b3f7ee5e9fe/vaex-viz-0.3.8.tar.gz\n",
            "Collecting vaex-server<0.3,>=0.2.1\n",
            "  Downloading https://files.pythonhosted.org/packages/5b/b2/77a32cc6177e24c48af19d7179722574a51aabf4964386585f0ce30f718f/vaex-server-0.2.1.tar.gz\n",
            "Collecting vaex-hdf5<0.6,>=0.5.6\n",
            "  Downloading https://files.pythonhosted.org/packages/69/e9/7e393d2dbb9b4892575ca643ce80a477f4148ed9c03f5bce5d8401716a15/vaex-hdf5-0.5.6.tar.gz\n",
            "Collecting vaex-astro<0.7,>=0.6.1\n",
            "  Downloading https://files.pythonhosted.org/packages/59/5a/0348422927b3621d6f518ad5eed5ec91cafeed6c69daca47f93e0055942a/vaex-astro-0.6.1.tar.gz\n",
            "Collecting vaex-arrow<0.5,>=0.4.2\n",
            "  Downloading https://files.pythonhosted.org/packages/17/e1/40fe2dcd9e2a75c14d0b0a1da37bca9caff846d0338c700ab13c6e5e5e09/vaex-arrow-0.4.2.tar.gz\n",
            "Collecting vaex-jupyter<0.5,>=0.4.1\n",
            "  Downloading https://files.pythonhosted.org/packages/69/18/933780bd0a228fe94c87b4e8aa2ee7daba077f2fa7fae60c12fc769f0edc/vaex-jupyter-0.4.1.tar.gz\n",
            "Collecting vaex-ml<0.9,>=0.8.0\n",
            "\u001b[?25l  Downloading https://files.pythonhosted.org/packages/29/fd/3cf09947c1894c8646694c8278ec6cd318d66d8d242f8e897545c9d4ea11/vaex-ml-0.8.0.tar.gz (77kB)\n",
            "\u001b[K     |████████████████████████████████| 81kB 9.0MB/s \n",
            "\u001b[?25hRequirement already satisfied: numpy>=1.11 in /usr/local/lib/python3.6/dist-packages (from vaex-core<2,>=1.5.0->vaex) (1.18.2)\n",
            "Requirement already satisfied: six in /usr/local/lib/python3.6/dist-packages (from vaex-core<2,>=1.5.0->vaex) (1.12.0)\n",
            "Requirement already satisfied: cloudpickle in /usr/local/lib/python3.6/dist-packages (from vaex-core<2,>=1.5.0->vaex) (1.3.0)\n",
            "Requirement already satisfied: dask[array] in /usr/local/lib/python3.6/dist-packages (from vaex-core<2,>=1.5.0->vaex) (2.12.0)\n",
            "Requirement already satisfied: pandas in /usr/local/lib/python3.6/dist-packages (from vaex-core<2,>=1.5.0->vaex) (0.25.3)\n",
            "Collecting aplus\n",
            "  Downloading https://files.pythonhosted.org/packages/9a/25/58f13028bc43c2d219e32402995275ed577cb02da7e43876a4020727c66a/aplus-0.11.0.tar.gz\n",
            "Requirement already satisfied: psutil>=1.2.1 in /usr/local/lib/python3.6/dist-packages (from vaex-core<2,>=1.5.0->vaex) (5.4.8)\n",
            "Requirement already satisfied: future>=0.15.2 in /usr/local/lib/python3.6/dist-packages (from vaex-core<2,>=1.5.0->vaex) (0.16.0)\n",
            "Requirement already satisfied: requests in /usr/local/lib/python3.6/dist-packages (from vaex-core<2,>=1.5.0->vaex) (2.21.0)\n",
            "Requirement already satisfied: progressbar2 in /usr/local/lib/python3.6/dist-packages (from vaex-core<2,>=1.5.0->vaex) (3.38.0)\n",
            "Requirement already satisfied: tabulate>=0.8.3 in /usr/local/lib/python3.6/dist-packages (from vaex-core<2,>=1.5.0->vaex) (0.8.6)\n",
            "Requirement already satisfied: pyyaml in /usr/local/lib/python3.6/dist-packages (from vaex-core<2,>=1.5.0->vaex) (3.13)\n",
            "Requirement already satisfied: astropy>=2 in /usr/local/lib/python3.6/dist-packages (from vaex-core<2,>=1.5.0->vaex) (4.0)\n",
            "Requirement already satisfied: matplotlib>=1.3.1 in /usr/local/lib/python3.6/dist-packages (from vaex-viz<0.4,>=0.3.8->vaex) (3.2.0)\n",
            "Requirement already satisfied: pillow in /usr/local/lib/python3.6/dist-packages (from vaex-viz<0.4,>=0.3.8->vaex) (7.0.0)\n",
            "Requirement already satisfied: tornado>4.1 in /usr/local/lib/python3.6/dist-packages (from vaex-server<0.3,>=0.2.1->vaex) (4.5.3)\n",
            "Requirement already satisfied: cachetools in /usr/local/lib/python3.6/dist-packages (from vaex-server<0.3,>=0.2.1->vaex) (3.1.1)\n",
            "Collecting h5py>=2.9\n",
            "\u001b[?25l  Downloading https://files.pythonhosted.org/packages/60/06/cafdd44889200e5438b897388f3075b52a8ef01f28a17366d91de0fa2d05/h5py-2.10.0-cp36-cp36m-manylinux1_x86_64.whl (2.9MB)\n",
            "\u001b[K     |████████████████████████████████| 2.9MB 19.7MB/s \n",
            "\u001b[?25hCollecting s3fs<0.3\n",
            "\u001b[?25l  Downloading https://files.pythonhosted.org/packages/c0/fa/10093c48f0def7878f8945429c699e36d73e49b90a282ace2b7a553ed020/s3fs-0.2.2.tar.gz (47kB)\n",
            "\u001b[K     |████████████████████████████████| 51kB 8.0MB/s \n",
            "\u001b[?25hCollecting pyarrow>=0.15\n",
            "\u001b[?25l  Downloading https://files.pythonhosted.org/packages/00/d2/695bab1e1e7a4554b6dbd287d55cca096214bd441037058a432afd724bb1/pyarrow-0.16.0-cp36-cp36m-manylinux2014_x86_64.whl (63.1MB)\n",
            "\u001b[K     |████████████████████████████████| 63.2MB 72kB/s \n",
            "\u001b[?25hCollecting bqplot>=0.10.1\n",
            "\u001b[?25l  Downloading https://files.pythonhosted.org/packages/94/38/19f984997c7d6e4855a9a2b865022d53eb5379c1bfb98521ea0615373f1c/bqplot-0.12.6-py2.py3-none-any.whl (4.7MB)\n",
            "\u001b[K     |████████████████████████████████| 4.7MB 46.6MB/s \n",
            "\u001b[?25hCollecting ipyvolume>=0.4\n",
            "\u001b[?25l  Downloading https://files.pythonhosted.org/packages/c4/be/09982f3bce56da844c5ee4642a8bfae9908e61d7e6999e7e91479cc64b6a/ipyvolume-0.5.2-py2.py3-none-any.whl (2.9MB)\n",
            "\u001b[K     |████████████████████████████████| 2.9MB 39.6MB/s \n",
            "\u001b[?25hCollecting ipyleaflet\n",
            "\u001b[?25l  Downloading https://files.pythonhosted.org/packages/7d/09/6f2a89769d1fca97231ce11c63f7b7cc2971eed4f751c6c148f25b478725/ipyleaflet-0.12.3-py2.py3-none-any.whl (2.8MB)\n",
            "\u001b[K     |████████████████████████████████| 2.8MB 61.7MB/s \n",
            "\u001b[?25hCollecting ipympl\n",
            "\u001b[?25l  Downloading https://files.pythonhosted.org/packages/98/97/10939c42fc962f3b89118b37884866866c3141f8c986b841eef033d597e2/ipympl-0.5.6-py2.py3-none-any.whl (454kB)\n",
            "\u001b[K     |████████████████████████████████| 460kB 50.6MB/s \n",
            "\u001b[?25hCollecting ipyvuetify<2,>=1.0.1\n",
            "\u001b[?25l  Downloading https://files.pythonhosted.org/packages/90/6d/0ba0c53f7c93a499c0b48881fb68094a682cf9fd628bd1cab044d8eed0a7/ipyvuetify-1.2.1.tar.gz (3.1MB)\n",
            "\u001b[K     |████████████████████████████████| 3.1MB 50.5MB/s \n",
            "\u001b[?25hRequirement already satisfied: numba in /usr/local/lib/python3.6/dist-packages (from vaex-ml<0.9,>=0.8.0->vaex) (0.47.0)\n",
            "Requirement already satisfied: traitlets in /usr/local/lib/python3.6/dist-packages (from vaex-ml<0.9,>=0.8.0->vaex) (4.3.3)\n",
            "Requirement already satisfied: jinja2 in /usr/local/lib/python3.6/dist-packages (from vaex-ml<0.9,>=0.8.0->vaex) (2.11.1)\n",
            "Requirement already satisfied: toolz>=0.7.3; extra == \"array\" in /usr/local/lib/python3.6/dist-packages (from dask[array]->vaex-core<2,>=1.5.0->vaex) (0.10.0)\n",
            "Requirement already satisfied: python-dateutil>=2.6.1 in /usr/local/lib/python3.6/dist-packages (from pandas->vaex-core<2,>=1.5.0->vaex) (2.8.1)\n",
            "Requirement already satisfied: pytz>=2017.2 in /usr/local/lib/python3.6/dist-packages (from pandas->vaex-core<2,>=1.5.0->vaex) (2018.9)\n",
            "Requirement already satisfied: idna<2.9,>=2.5 in /usr/local/lib/python3.6/dist-packages (from requests->vaex-core<2,>=1.5.0->vaex) (2.8)\n",
            "Requirement already satisfied: certifi>=2017.4.17 in /usr/local/lib/python3.6/dist-packages (from requests->vaex-core<2,>=1.5.0->vaex) (2019.11.28)\n",
            "Requirement already satisfied: chardet<3.1.0,>=3.0.2 in /usr/local/lib/python3.6/dist-packages (from requests->vaex-core<2,>=1.5.0->vaex) (3.0.4)\n",
            "Requirement already satisfied: urllib3<1.25,>=1.21.1 in /usr/local/lib/python3.6/dist-packages (from requests->vaex-core<2,>=1.5.0->vaex) (1.24.3)\n",
            "Requirement already satisfied: python-utils>=2.3.0 in /usr/local/lib/python3.6/dist-packages (from progressbar2->vaex-core<2,>=1.5.0->vaex) (2.4.0)\n",
            "Requirement already satisfied: cycler>=0.10 in /usr/local/lib/python3.6/dist-packages (from matplotlib>=1.3.1->vaex-viz<0.4,>=0.3.8->vaex) (0.10.0)\n",
            "Requirement already satisfied: pyparsing!=2.0.4,!=2.1.2,!=2.1.6,>=2.0.1 in /usr/local/lib/python3.6/dist-packages (from matplotlib>=1.3.1->vaex-viz<0.4,>=0.3.8->vaex) (2.4.6)\n",
            "Requirement already satisfied: kiwisolver>=1.0.1 in /usr/local/lib/python3.6/dist-packages (from matplotlib>=1.3.1->vaex-viz<0.4,>=0.3.8->vaex) (1.1.0)\n",
            "Requirement already satisfied: boto3>=1.9.91 in /usr/local/lib/python3.6/dist-packages (from s3fs<0.3->vaex-hdf5<0.6,>=0.5.6->vaex) (1.12.23)\n",
            "Requirement already satisfied: botocore>=1.12.91 in /usr/local/lib/python3.6/dist-packages (from s3fs<0.3->vaex-hdf5<0.6,>=0.5.6->vaex) (1.15.23)\n",
            "Collecting traittypes>=0.0.6\n",
            "  Downloading https://files.pythonhosted.org/packages/9c/d1/8d5bd662703cc1764d986f6908a608777305946fa634d34c470cd4a1e729/traittypes-0.2.1-py2.py3-none-any.whl\n",
            "Requirement already satisfied: ipywidgets>=7.5.0 in /usr/local/lib/python3.6/dist-packages (from bqplot>=0.10.1->vaex-jupyter<0.5,>=0.4.1->vaex) (7.5.1)\n",
            "Collecting pythreejs>=1.0.0\n",
            "\u001b[?25l  Downloading https://files.pythonhosted.org/packages/66/5b/15f1e42debee32a2f40e73786a789fea90cce3d177004a148fef5523b16e/pythreejs-2.2.0-py2.py3-none-any.whl (4.4MB)\n",
            "\u001b[K     |████████████████████████████████| 4.5MB 47.5MB/s \n",
            "\u001b[?25hCollecting ipywebrtc\n",
            "\u001b[?25l  Downloading https://files.pythonhosted.org/packages/65/6b/b78b2b6f96fb2299eebae3083d3625cedb62a35ddc9815897f25c8093edd/ipywebrtc-0.5.0-py2.py3-none-any.whl (1.1MB)\n",
            "\u001b[K     |████████████████████████████████| 1.1MB 46.4MB/s \n",
            "\u001b[?25hRequirement already satisfied: xarray>=0.10 in /usr/local/lib/python3.6/dist-packages (from ipyleaflet->vaex-jupyter<0.5,>=0.4.1->vaex) (0.15.0)\n",
            "Collecting branca<0.4,>=0.3.1\n",
            "  Downloading https://files.pythonhosted.org/packages/63/36/1c93318e9653f4e414a2e0c3b98fc898b4970e939afeedeee6075dd3b703/branca-0.3.1-py3-none-any.whl\n",
            "Collecting ipykernel>=4.7\n",
            "\u001b[?25l  Downloading https://files.pythonhosted.org/packages/78/13/cc35fa7aef711d1b384ed8cf4304d1b16c38d8f91c1e8fb1466eae96f828/ipykernel-5.2.0-py3-none-any.whl (117kB)\n",
            "\u001b[K     |████████████████████████████████| 122kB 66.8MB/s \n",
            "\u001b[?25hCollecting ipyvue<2,>=1.0.0\n",
            "\u001b[?25l  Downloading https://files.pythonhosted.org/packages/7e/31/42a3814760cec749ccd0f69421d9e811eebf02adbbf6a6a49673eb55a046/ipyvue-1.2.1.tar.gz (658kB)\n",
            "\u001b[K     |████████████████████████████████| 665kB 55.8MB/s \n",
            "\u001b[?25hRequirement already satisfied: setuptools in /usr/local/lib/python3.6/dist-packages (from numba->vaex-ml<0.9,>=0.8.0->vaex) (46.0.0)\n",
            "Requirement already satisfied: llvmlite>=0.31.0dev0 in /usr/local/lib/python3.6/dist-packages (from numba->vaex-ml<0.9,>=0.8.0->vaex) (0.31.0)\n",
            "Requirement already satisfied: decorator in /usr/local/lib/python3.6/dist-packages (from traitlets->vaex-ml<0.9,>=0.8.0->vaex) (4.4.2)\n",
            "Requirement already satisfied: ipython-genutils in /usr/local/lib/python3.6/dist-packages (from traitlets->vaex-ml<0.9,>=0.8.0->vaex) (0.2.0)\n",
            "Requirement already satisfied: MarkupSafe>=0.23 in /usr/local/lib/python3.6/dist-packages (from jinja2->vaex-ml<0.9,>=0.8.0->vaex) (1.1.1)\n",
            "Requirement already satisfied: s3transfer<0.4.0,>=0.3.0 in /usr/local/lib/python3.6/dist-packages (from boto3>=1.9.91->s3fs<0.3->vaex-hdf5<0.6,>=0.5.6->vaex) (0.3.3)\n",
            "Requirement already satisfied: jmespath<1.0.0,>=0.7.1 in /usr/local/lib/python3.6/dist-packages (from boto3>=1.9.91->s3fs<0.3->vaex-hdf5<0.6,>=0.5.6->vaex) (0.9.5)\n",
            "Requirement already satisfied: docutils<0.16,>=0.10 in /usr/local/lib/python3.6/dist-packages (from botocore>=1.12.91->s3fs<0.3->vaex-hdf5<0.6,>=0.5.6->vaex) (0.15.2)\n",
            "Requirement already satisfied: nbformat>=4.2.0 in /usr/local/lib/python3.6/dist-packages (from ipywidgets>=7.5.0->bqplot>=0.10.1->vaex-jupyter<0.5,>=0.4.1->vaex) (5.0.4)\n",
            "Requirement already satisfied: ipython>=4.0.0; python_version >= \"3.3\" in /usr/local/lib/python3.6/dist-packages (from ipywidgets>=7.5.0->bqplot>=0.10.1->vaex-jupyter<0.5,>=0.4.1->vaex) (5.5.0)\n",
            "Requirement already satisfied: widgetsnbextension~=3.5.0 in /usr/local/lib/python3.6/dist-packages (from ipywidgets>=7.5.0->bqplot>=0.10.1->vaex-jupyter<0.5,>=0.4.1->vaex) (3.5.1)\n",
            "Collecting ipydatawidgets>=1.1.1\n",
            "\u001b[?25l  Downloading https://files.pythonhosted.org/packages/3d/62/eb221e1efaebf42af438c109088fbeea00561e5567a202fc8425d7b9c34d/ipydatawidgets-4.0.1-py2.py3-none-any.whl (250kB)\n",
            "\u001b[K     |████████████████████████████████| 256kB 37.4MB/s \n",
            "\u001b[?25hRequirement already satisfied: jupyter-client in /usr/local/lib/python3.6/dist-packages (from ipykernel>=4.7->ipympl->vaex-jupyter<0.5,>=0.4.1->vaex) (5.3.4)\n",
            "Requirement already satisfied: jsonschema!=2.5.0,>=2.4 in /usr/local/lib/python3.6/dist-packages (from nbformat>=4.2.0->ipywidgets>=7.5.0->bqplot>=0.10.1->vaex-jupyter<0.5,>=0.4.1->vaex) (2.6.0)\n",
            "Requirement already satisfied: jupyter-core in /usr/local/lib/python3.6/dist-packages (from nbformat>=4.2.0->ipywidgets>=7.5.0->bqplot>=0.10.1->vaex-jupyter<0.5,>=0.4.1->vaex) (4.6.3)\n",
            "Requirement already satisfied: pygments in /usr/local/lib/python3.6/dist-packages (from ipython>=4.0.0; python_version >= \"3.3\"->ipywidgets>=7.5.0->bqplot>=0.10.1->vaex-jupyter<0.5,>=0.4.1->vaex) (2.1.3)\n",
            "Requirement already satisfied: pexpect; sys_platform != \"win32\" in /usr/local/lib/python3.6/dist-packages (from ipython>=4.0.0; python_version >= \"3.3\"->ipywidgets>=7.5.0->bqplot>=0.10.1->vaex-jupyter<0.5,>=0.4.1->vaex) (4.8.0)\n",
            "Requirement already satisfied: simplegeneric>0.8 in /usr/local/lib/python3.6/dist-packages (from ipython>=4.0.0; python_version >= \"3.3\"->ipywidgets>=7.5.0->bqplot>=0.10.1->vaex-jupyter<0.5,>=0.4.1->vaex) (0.8.1)\n",
            "Requirement already satisfied: pickleshare in /usr/local/lib/python3.6/dist-packages (from ipython>=4.0.0; python_version >= \"3.3\"->ipywidgets>=7.5.0->bqplot>=0.10.1->vaex-jupyter<0.5,>=0.4.1->vaex) (0.7.5)\n",
            "Requirement already satisfied: prompt-toolkit<2.0.0,>=1.0.4 in /usr/local/lib/python3.6/dist-packages (from ipython>=4.0.0; python_version >= \"3.3\"->ipywidgets>=7.5.0->bqplot>=0.10.1->vaex-jupyter<0.5,>=0.4.1->vaex) (1.0.18)\n",
            "Requirement already satisfied: notebook>=4.4.1 in /usr/local/lib/python3.6/dist-packages (from widgetsnbextension~=3.5.0->ipywidgets>=7.5.0->bqplot>=0.10.1->vaex-jupyter<0.5,>=0.4.1->vaex) (5.2.2)\n",
            "Requirement already satisfied: pyzmq>=13 in /usr/local/lib/python3.6/dist-packages (from jupyter-client->ipykernel>=4.7->ipympl->vaex-jupyter<0.5,>=0.4.1->vaex) (17.0.0)\n",
            "Requirement already satisfied: ptyprocess>=0.5 in /usr/local/lib/python3.6/dist-packages (from pexpect; sys_platform != \"win32\"->ipython>=4.0.0; python_version >= \"3.3\"->ipywidgets>=7.5.0->bqplot>=0.10.1->vaex-jupyter<0.5,>=0.4.1->vaex) (0.6.0)\n",
            "Requirement already satisfied: wcwidth in /usr/local/lib/python3.6/dist-packages (from prompt-toolkit<2.0.0,>=1.0.4->ipython>=4.0.0; python_version >= \"3.3\"->ipywidgets>=7.5.0->bqplot>=0.10.1->vaex-jupyter<0.5,>=0.4.1->vaex) (0.1.8)\n",
            "Requirement already satisfied: nbconvert in /usr/local/lib/python3.6/dist-packages (from notebook>=4.4.1->widgetsnbextension~=3.5.0->ipywidgets>=7.5.0->bqplot>=0.10.1->vaex-jupyter<0.5,>=0.4.1->vaex) (5.6.1)\n",
            "Requirement already satisfied: terminado>=0.3.3; sys_platform != \"win32\" in /usr/local/lib/python3.6/dist-packages (from notebook>=4.4.1->widgetsnbextension~=3.5.0->ipywidgets>=7.5.0->bqplot>=0.10.1->vaex-jupyter<0.5,>=0.4.1->vaex) (0.8.3)\n",
            "Requirement already satisfied: defusedxml in /usr/local/lib/python3.6/dist-packages (from nbconvert->notebook>=4.4.1->widgetsnbextension~=3.5.0->ipywidgets>=7.5.0->bqplot>=0.10.1->vaex-jupyter<0.5,>=0.4.1->vaex) (0.6.0)\n",
            "Requirement already satisfied: pandocfilters>=1.4.1 in /usr/local/lib/python3.6/dist-packages (from nbconvert->notebook>=4.4.1->widgetsnbextension~=3.5.0->ipywidgets>=7.5.0->bqplot>=0.10.1->vaex-jupyter<0.5,>=0.4.1->vaex) (1.4.2)\n",
            "Requirement already satisfied: entrypoints>=0.2.2 in /usr/local/lib/python3.6/dist-packages (from nbconvert->notebook>=4.4.1->widgetsnbextension~=3.5.0->ipywidgets>=7.5.0->bqplot>=0.10.1->vaex-jupyter<0.5,>=0.4.1->vaex) (0.3)\n",
            "Requirement already satisfied: testpath in /usr/local/lib/python3.6/dist-packages (from nbconvert->notebook>=4.4.1->widgetsnbextension~=3.5.0->ipywidgets>=7.5.0->bqplot>=0.10.1->vaex-jupyter<0.5,>=0.4.1->vaex) (0.4.4)\n",
            "Requirement already satisfied: bleach in /usr/local/lib/python3.6/dist-packages (from nbconvert->notebook>=4.4.1->widgetsnbextension~=3.5.0->ipywidgets>=7.5.0->bqplot>=0.10.1->vaex-jupyter<0.5,>=0.4.1->vaex) (3.1.3)\n",
            "Requirement already satisfied: mistune<2,>=0.8.1 in /usr/local/lib/python3.6/dist-packages (from nbconvert->notebook>=4.4.1->widgetsnbextension~=3.5.0->ipywidgets>=7.5.0->bqplot>=0.10.1->vaex-jupyter<0.5,>=0.4.1->vaex) (0.8.4)\n",
            "Requirement already satisfied: webencodings in /usr/local/lib/python3.6/dist-packages (from bleach->nbconvert->notebook>=4.4.1->widgetsnbextension~=3.5.0->ipywidgets>=7.5.0->bqplot>=0.10.1->vaex-jupyter<0.5,>=0.4.1->vaex) (0.5.1)\n",
            "Building wheels for collected packages: vaex, vaex-viz, vaex-server, vaex-hdf5, vaex-astro, vaex-arrow, vaex-jupyter, vaex-ml, aplus, s3fs, ipyvuetify, ipyvue\n",
            "  Building wheel for vaex (setup.py) ... \u001b[?25l\u001b[?25hdone\n",
            "  Created wheel for vaex: filename=vaex-2.6.1-cp36-none-any.whl size=5658 sha256=2757bcf31d4c6550360935e710b158a02c09efca01f5d1192b88138e1290b126\n",
            "  Stored in directory: /root/.cache/pip/wheels/06/98/38/b51199be9665231050f60128f287c5fe2b96aa05df9c4a0883\n",
            "  Building wheel for vaex-viz (setup.py) ... \u001b[?25l\u001b[?25hdone\n",
            "  Created wheel for vaex-viz: filename=vaex_viz-0.3.8-cp36-none-any.whl size=17350 sha256=1f053056713a014e41f380e8a9dc5885026af4c126d026611949f6f2c2892964\n",
            "  Stored in directory: /root/.cache/pip/wheels/4c/2b/7a/03862329aa5d13da9b6b755d5c5b1c0c3b9e7cb271f5729538\n",
            "  Building wheel for vaex-server (setup.py) ... \u001b[?25l\u001b[?25hdone\n",
            "  Created wheel for vaex-server: filename=vaex_server-0.2.1-cp36-none-any.whl size=2383 sha256=b53193646b0858988cb6f5b95405282a35a2bf295045be1c036493ce19f1c965\n",
            "  Stored in directory: /root/.cache/pip/wheels/f5/13/17/b4b886996bb7fcbdfe16eaa12b4eb3e6cf5c6c5c422969e29c\n",
            "  Building wheel for vaex-hdf5 (setup.py) ... \u001b[?25l\u001b[?25hdone\n",
            "  Created wheel for vaex-hdf5: filename=vaex_hdf5-0.5.6-cp36-none-any.whl size=11101 sha256=bec3c10907989fc982f0fed2680ebf5e50097661092ba7e5b8bebee568c02a75\n",
            "  Stored in directory: /root/.cache/pip/wheels/7c/ca/44/88262dbea7bcbf858cb729ff31fa809dcb56537666ec909678\n",
            "  Building wheel for vaex-astro (setup.py) ... \u001b[?25l\u001b[?25hdone\n",
            "  Created wheel for vaex-astro: filename=vaex_astro-0.6.1-cp36-none-any.whl size=10418 sha256=66abc2fb0e54139ec69a028ca93e945a17c574c062ea1327f023160d82820eb9\n",
            "  Stored in directory: /root/.cache/pip/wheels/ef/7a/d3/87f01f8bea1b98182e6661b4bf43119c6941c535afecabef07\n",
            "  Building wheel for vaex-arrow (setup.py) ... \u001b[?25l\u001b[?25hdone\n",
            "  Created wheel for vaex-arrow: filename=vaex_arrow-0.4.2-cp36-none-any.whl size=7179 sha256=d78bd033bb913c8ebf91f2eba6bb27dba05b03f5908465a550cea67d8c1635e9\n",
            "  Stored in directory: /root/.cache/pip/wheels/6c/d3/cf/112e980748da735cd4a17df3c5b172ed3cec592466d3efd96a\n",
            "  Building wheel for vaex-jupyter (setup.py) ... \u001b[?25l\u001b[?25hdone\n",
            "  Created wheel for vaex-jupyter: filename=vaex_jupyter-0.4.1-cp36-none-any.whl size=39548 sha256=adb3513ffe07799e4bdb69f32810ea0a0f81eb7ae18ebe646d44fa492d484eab\n",
            "  Stored in directory: /root/.cache/pip/wheels/09/11/09/d9281fd66b9cd5589d57656f1bde3093ce57923acb3b52a08a\n",
            "  Building wheel for vaex-ml (setup.py) ... \u001b[?25l\u001b[?25hdone\n",
            "  Created wheel for vaex-ml: filename=vaex_ml-0.8.0-cp36-none-any.whl size=85764 sha256=44c861c5c33b1a9007ae3540e1b2998a69b08dd5abda98a3526696f7d693e0e9\n",
            "  Stored in directory: /root/.cache/pip/wheels/b3/2b/3e/0de1fdd65f0c8090b84c3e24b3cadb1e091235b319bcc68594\n",
            "  Building wheel for aplus (setup.py) ... \u001b[?25l\u001b[?25hdone\n",
            "  Created wheel for aplus: filename=aplus-0.11.0-cp36-none-any.whl size=4412 sha256=e1e39486eeac0829367699094290d39561d4940703937d8f3c429795fc9981d2\n",
            "  Stored in directory: /root/.cache/pip/wheels/77/95/8a/ccc1d85d9cabd162a537be5ad77f95d109170df37b49c0ca21\n",
            "  Building wheel for s3fs (setup.py) ... \u001b[?25l\u001b[?25hdone\n",
            "  Created wheel for s3fs: filename=s3fs-0.2.2-py2.py3-none-any.whl size=20711 sha256=7590691bbf0d8b22822e736a4931c7e69d48aa0443b8f5a324b188d9ef51ed9b\n",
            "  Stored in directory: /root/.cache/pip/wheels/94/20/c9/b0256fe423de22bca83518fe0f7eba34ae1b9591a9d8c2d3b4\n",
            "  Building wheel for ipyvuetify (setup.py) ... \u001b[?25l\u001b[?25hdone\n",
            "  Created wheel for ipyvuetify: filename=ipyvuetify-1.2.1-py2.py3-none-any.whl size=6365522 sha256=d02670dadb24cdd5216ff7935e1f3220fcd0f574fceaa4ebb73fcb17b496f17a\n",
            "  Stored in directory: /root/.cache/pip/wheels/5f/08/43/c2ab1ecce1f59202a309db91ecdc7fb581d8e65d5dc669649a\n",
            "  Building wheel for ipyvue (setup.py) ... \u001b[?25l\u001b[?25hdone\n",
            "  Created wheel for ipyvue: filename=ipyvue-1.2.1-py2.py3-none-any.whl size=983486 sha256=e9d826ec00f8524183e0a68c8579923b2eea64899ae5a68afb926d4ceefd0c71\n",
            "  Stored in directory: /root/.cache/pip/wheels/6c/f2/79/0de51af50dae379ae203390427f2f6a2ae36da2b0884c3cc32\n",
            "Successfully built vaex vaex-viz vaex-server vaex-hdf5 vaex-astro vaex-arrow vaex-jupyter vaex-ml aplus s3fs ipyvuetify ipyvue\n",
            "\u001b[31mERROR: tensorflow-federated 0.12.0 has requirement tensorflow~=2.1.0, but you'll have tensorflow 1.15.0 which is incompatible.\u001b[0m\n",
            "\u001b[31mERROR: tensorflow-federated 0.12.0 has requirement tensorflow-addons~=0.7.0, but you'll have tensorflow-addons 0.8.3 which is incompatible.\u001b[0m\n",
            "\u001b[31mERROR: google-colab 1.0.0 has requirement ipykernel~=4.6.0, but you'll have ipykernel 5.2.0 which is incompatible.\u001b[0m\n",
            "\u001b[31mERROR: datascience 0.10.6 has requirement folium==0.2.1, but you'll have folium 0.8.3 which is incompatible.\u001b[0m\n",
            "Installing collected packages: aplus, vaex-core, vaex-viz, vaex-server, h5py, s3fs, vaex-hdf5, vaex-astro, pyarrow, vaex-arrow, traittypes, bqplot, ipydatawidgets, pythreejs, ipywebrtc, ipyvolume, branca, ipyleaflet, ipykernel, ipympl, ipyvue, ipyvuetify, vaex-jupyter, vaex-ml, vaex\n",
            "  Found existing installation: h5py 2.8.0\n",
            "    Uninstalling h5py-2.8.0:\n",
            "      Successfully uninstalled h5py-2.8.0\n",
            "  Found existing installation: s3fs 0.4.0\n",
            "    Uninstalling s3fs-0.4.0:\n",
            "      Successfully uninstalled s3fs-0.4.0\n",
            "  Found existing installation: pyarrow 0.14.1\n",
            "    Uninstalling pyarrow-0.14.1:\n",
            "      Successfully uninstalled pyarrow-0.14.1\n",
            "  Found existing installation: branca 0.4.0\n",
            "    Uninstalling branca-0.4.0:\n",
            "      Successfully uninstalled branca-0.4.0\n",
            "  Found existing installation: ipykernel 4.6.1\n",
            "    Uninstalling ipykernel-4.6.1:\n",
            "      Successfully uninstalled ipykernel-4.6.1\n",
            "Successfully installed aplus-0.11.0 bqplot-0.12.6 branca-0.3.1 h5py-2.10.0 ipydatawidgets-4.0.1 ipykernel-5.2.0 ipyleaflet-0.12.3 ipympl-0.5.6 ipyvolume-0.5.2 ipyvue-1.2.1 ipyvuetify-1.2.1 ipywebrtc-0.5.0 pyarrow-0.16.0 pythreejs-2.2.0 s3fs-0.2.2 traittypes-0.2.1 vaex-2.6.1 vaex-arrow-0.4.2 vaex-astro-0.6.1 vaex-core-1.5.0 vaex-hdf5-0.5.6 vaex-jupyter-0.4.1 vaex-ml-0.8.0 vaex-server-0.2.1 vaex-viz-0.3.8\n"
          ],
          "name": "stdout"
        },
        {
          "output_type": "display_data",
          "data": {
            "application/vnd.colab-display-data+json": {
              "pip_warning": {
                "packages": [
                  "ipykernel",
                  "pyarrow"
                ]
              }
            }
          },
          "metadata": {
            "tags": []
          }
        }
      ]
    },
    {
      "cell_type": "markdown",
      "metadata": {
        "colab_type": "text",
        "id": "a3VnPJ_1p4N-"
      },
      "source": [
        "# インポート"
      ]
    },
    {
      "cell_type": "code",
      "metadata": {
        "colab_type": "code",
        "id": "jgCkWuKLpdgp",
        "colab": {}
      },
      "source": [
        "import pandas\n",
        "import numpy\n",
        "import vaex\n",
        "import time\n",
        "import os\n",
        "import shutil\n",
        "import glob"
      ],
      "execution_count": 0,
      "outputs": []
    },
    {
      "cell_type": "markdown",
      "metadata": {
        "id": "JVCzXRlSI_V0",
        "colab_type": "text"
      },
      "source": [
        "# ディレクトリ"
      ]
    },
    {
      "cell_type": "markdown",
      "metadata": {
        "id": "r6J44ysSLT8s",
        "colab_type": "text"
      },
      "source": [
        "保存"
      ]
    },
    {
      "cell_type": "code",
      "metadata": {
        "id": "k8eADAuMLa6O",
        "colab_type": "code",
        "colab": {}
      },
      "source": [
        "save_dir =  \"/content/gdrive/My Drive/Colab Notebooks/vaexTestResult\"\n",
        "if not os.path.exists(save_dir):\n",
        "  os.mkdir(save_dir)"
      ],
      "execution_count": 0,
      "outputs": []
    },
    {
      "cell_type": "markdown",
      "metadata": {
        "id": "dIEzCYDcLRyQ",
        "colab_type": "text"
      },
      "source": [
        "作業"
      ]
    },
    {
      "cell_type": "code",
      "metadata": {
        "id": "c5oRFqxwI764",
        "colab_type": "code",
        "colab": {}
      },
      "source": [
        "working_dir = os.path.join(os.path.expanduser('~'), \"work\")\n",
        "if not os.path.exists(working_dir):\n",
        "  os.mkdir(working_dir)\n",
        "os.chdir(working_dir)"
      ],
      "execution_count": 0,
      "outputs": []
    },
    {
      "cell_type": "code",
      "metadata": {
        "id": "4WYSE2mrMmYL",
        "colab_type": "code",
        "colab": {}
      },
      "source": [
        "def fileName(row,column,suffix):\n",
        "    return str(row) + \"-\" + str(column) + suffix"
      ],
      "execution_count": 0,
      "outputs": []
    },
    {
      "cell_type": "markdown",
      "metadata": {
        "colab_type": "text",
        "id": "VLToKYKYMtTx"
      },
      "source": [
        "# 性能計測"
      ]
    },
    {
      "cell_type": "code",
      "metadata": {
        "id": "q-xd1Kg9D08C",
        "colab_type": "code",
        "outputId": "99ffb964-2519-427d-fe7b-b40f417e6a70",
        "colab": {
          "base_uri": "https://localhost:8080/",
          "height": 52
        }
      },
      "source": [
        "%%time\n",
        "list_of_number_of_columns = [2 ** n for n in range(10,15)]\n",
        "list_of_number_of_rows = [2 ** n for n in range(10,15)]\n",
        "\n",
        "pandas_to_csv_records = pandas.DataFrame(index=list_of_number_of_rows, columns=list_of_number_of_columns)\n",
        "pandas_read_csv_records = pandas.DataFrame(index=list_of_number_of_rows, columns=list_of_number_of_columns)\n",
        "vaex_from_pandas_records = pandas.DataFrame(index=list_of_number_of_rows, columns=list_of_number_of_columns)\n",
        "vaex_export_hdf5_records = pandas.DataFrame(index=list_of_number_of_rows, columns=list_of_number_of_columns)\n",
        "vaex_open_local_records = pandas.DataFrame(index=list_of_number_of_rows, columns=list_of_number_of_columns)\n",
        "vaex_describe_local_records = pandas.DataFrame(index=list_of_number_of_rows, columns=list_of_number_of_columns)\n",
        "vaex_open_gdrive_records = pandas.DataFrame(index=list_of_number_of_rows, columns=list_of_number_of_columns)\n",
        "vaex_describe_gdrive_records = pandas.DataFrame(index=list_of_number_of_rows, columns=list_of_number_of_columns)"
      ],
      "execution_count": 7,
      "outputs": [
        {
          "output_type": "stream",
          "text": [
            "CPU times: user 23.1 ms, sys: 0 ns, total: 23.1 ms\n",
            "Wall time: 28.9 ms\n"
          ],
          "name": "stdout"
        }
      ]
    },
    {
      "cell_type": "markdown",
      "metadata": {
        "colab_type": "text",
        "id": "RBrxEYFLv81J"
      },
      "source": [
        "Hdf5ファイル作成"
      ]
    },
    {
      "cell_type": "code",
      "metadata": {
        "colab_type": "code",
        "id": "f8BVyGu8OwTd",
        "outputId": "0f2a939d-7b0f-4252-b670-199d043d969e",
        "colab": {
          "base_uri": "https://localhost:8080/",
          "height": 1000
        }
      },
      "source": [
        "%%time\n",
        "\n",
        "for number_of_columns in list_of_number_of_columns:\n",
        "  for number_of_rows in list_of_number_of_rows:\n",
        "    print(\"-----\")\n",
        "    print(\"number_of_columns=\" + str(number_of_columns))\n",
        "    print(\"number_of_rows=\" + str(number_of_rows))\n",
        "    column_names = [ 'f' + str(n) for n in range(0,number_of_columns)]\n",
        "    values = []\n",
        "    for k in range(number_of_columns):\n",
        "      values.append(numpy.random.normal(k,1, number_of_rows))\n",
        "    %time df_pandas_trans = pandas.DataFrame(numpy.reshape(values, (number_of_columns, number_of_rows)), index=column_names)\n",
        "    df_pandas = df_pandas_trans.T\n",
        "    print(df_pandas.shape)\n",
        "    \n",
        "    csv_filename = fileName(number_of_rows,number_of_columns,\".csv\")\n",
        "    hdf5_filename = fileName(number_of_rows,number_of_columns,\".hdf5\")\n",
        "\n",
        "    # pandas.to_csv\n",
        "    startTime = time.time()\n",
        "    %time df_pandas.to_csv(csv_filename)\n",
        "    endTime = time.time()\n",
        "    diffTime = endTime - startTime\n",
        "    pandas_to_csv_records.at[number_of_rows,number_of_columns] = diffTime\n",
        "    print(\"pandas.to_csv\")\n",
        "    print(diffTime)\n",
        "    \n",
        "    # pandas.read_csv\n",
        "    startTime = time.time()\n",
        "    %time df_pandas = pandas.read_csv(csv_filename)\n",
        "    endTime = time.time()\n",
        "    diffTime = endTime - startTime\n",
        "    pandas_read_csv_records.at[number_of_rows,number_of_columns] = diffTime\n",
        "    print(\"pandas.read_csv\")\n",
        "    print(diffTime)\n",
        "    \n",
        "    # vaex.from_pandas\n",
        "    startTime = time.time()\n",
        "    %time df_vaex = vaex.from_pandas(df_pandas)\n",
        "    endTime = time.time()\n",
        "    diffTime = endTime - startTime\n",
        "    vaex_from_pandas_records.at[number_of_rows,number_of_columns] = diffTime\n",
        "    print(\"vaex.from_pandas\")\n",
        "    print(diffTime)\n",
        "\n",
        "    # vaex.export_hdf5\n",
        "    startTime = time.time()\n",
        "    %time df_vaex.export_hdf5(hdf5_filename)\n",
        "    endTime = time.time()\n",
        "    diffTime = endTime - startTime\n",
        "    vaex_export_hdf5_records.at[number_of_rows,number_of_columns] = diffTime\n",
        "    print(\"vaex.export_hdf5\")\n",
        "    print(diffTime)\n",
        "\n",
        "    df_vaex.close_files()\n",
        "    \n",
        "    save_filename = os.path.join(save_dir, csv_filename)\n",
        "    if os.path.exists(save_filename):\n",
        "      os.remove(save_filename)\n",
        "    shutil.move(csv_filename, save_filename)"
      ],
      "execution_count": 8,
      "outputs": [
        {
          "output_type": "stream",
          "text": [
            "-----\n",
            "number_of_columns=1024\n",
            "number_of_rows=1024\n",
            "CPU times: user 3.05 ms, sys: 1.02 ms, total: 4.07 ms\n",
            "Wall time: 4.08 ms\n",
            "(1024, 1024)\n",
            "CPU times: user 1.81 s, sys: 70.1 ms, total: 1.88 s\n",
            "Wall time: 1.89 s\n",
            "pandas.to_csv\n",
            "1.8932647705078125\n",
            "CPU times: user 271 ms, sys: 22.1 ms, total: 293 ms\n",
            "Wall time: 293 ms\n",
            "pandas.read_csv\n",
            "0.2940187454223633\n",
            "CPU times: user 133 ms, sys: 181 µs, total: 133 ms\n",
            "Wall time: 133 ms\n",
            "vaex.from_pandas\n",
            "0.13414454460144043\n",
            "CPU times: user 1.92 s, sys: 116 ms, total: 2.03 s\n",
            "Wall time: 2.15 s\n",
            "vaex.export_hdf5\n",
            "2.146247148513794\n",
            "-----\n",
            "number_of_columns=1024\n",
            "number_of_rows=2048\n",
            "CPU times: user 6.88 ms, sys: 0 ns, total: 6.88 ms\n",
            "Wall time: 6.89 ms\n",
            "(2048, 1024)\n",
            "CPU times: user 3.52 s, sys: 148 ms, total: 3.66 s\n",
            "Wall time: 3.67 s\n",
            "pandas.to_csv\n",
            "3.670868158340454\n",
            "CPU times: user 493 ms, sys: 26.6 ms, total: 519 ms\n",
            "Wall time: 519 ms\n",
            "pandas.read_csv\n",
            "0.5201301574707031\n",
            "CPU times: user 132 ms, sys: 1.79 ms, total: 134 ms\n",
            "Wall time: 134 ms\n",
            "vaex.from_pandas\n",
            "0.13549494743347168\n",
            "CPU times: user 1.62 s, sys: 78.2 ms, total: 1.7 s\n",
            "Wall time: 1.68 s\n",
            "vaex.export_hdf5\n",
            "1.679786205291748\n",
            "-----\n",
            "number_of_columns=1024\n",
            "number_of_rows=4096\n",
            "CPU times: user 3.73 ms, sys: 9.12 ms, total: 12.8 ms\n",
            "Wall time: 12.9 ms\n",
            "(4096, 1024)\n",
            "CPU times: user 7.11 s, sys: 262 ms, total: 7.37 s\n",
            "Wall time: 7.38 s\n",
            "pandas.to_csv\n",
            "7.380349397659302\n",
            "CPU times: user 949 ms, sys: 44.7 ms, total: 994 ms\n",
            "Wall time: 996 ms\n",
            "pandas.read_csv\n",
            "0.9966270923614502\n",
            "CPU times: user 132 ms, sys: 0 ns, total: 132 ms\n",
            "Wall time: 132 ms\n",
            "vaex.from_pandas\n",
            "0.13225507736206055\n",
            "CPU times: user 1.56 s, sys: 91.5 ms, total: 1.65 s\n",
            "Wall time: 1.63 s\n",
            "vaex.export_hdf5\n",
            "1.6271240711212158\n",
            "-----\n",
            "number_of_columns=1024\n",
            "number_of_rows=8192\n",
            "CPU times: user 7.65 ms, sys: 29.3 ms, total: 36.9 ms\n",
            "Wall time: 36.9 ms\n",
            "(8192, 1024)\n",
            "CPU times: user 14 s, sys: 510 ms, total: 14.5 s\n",
            "Wall time: 14.5 s\n",
            "pandas.to_csv\n",
            "14.52297854423523\n",
            "CPU times: user 1.71 s, sys: 102 ms, total: 1.81 s\n",
            "Wall time: 1.81 s\n",
            "pandas.read_csv\n",
            "1.8156373500823975\n",
            "CPU times: user 130 ms, sys: 0 ns, total: 130 ms\n",
            "Wall time: 130 ms\n",
            "vaex.from_pandas\n",
            "0.13115286827087402\n",
            "CPU times: user 1.57 s, sys: 151 ms, total: 1.73 s\n",
            "Wall time: 1.7 s\n",
            "vaex.export_hdf5\n",
            "1.7019643783569336\n",
            "-----\n",
            "number_of_columns=1024\n",
            "number_of_rows=16384\n",
            "CPU times: user 16.1 ms, sys: 53.3 ms, total: 69.5 ms\n",
            "Wall time: 69.5 ms\n",
            "(16384, 1024)\n",
            "CPU times: user 27.9 s, sys: 1.08 s, total: 29 s\n",
            "Wall time: 29 s\n",
            "pandas.to_csv\n",
            "29.04301142692566\n",
            "CPU times: user 3.34 s, sys: 196 ms, total: 3.54 s\n",
            "Wall time: 3.54 s\n",
            "pandas.read_csv\n",
            "3.5417115688323975\n",
            "CPU times: user 130 ms, sys: 0 ns, total: 130 ms\n",
            "Wall time: 131 ms\n",
            "vaex.from_pandas\n",
            "0.13178801536560059\n",
            "CPU times: user 1.66 s, sys: 220 ms, total: 1.88 s\n",
            "Wall time: 1.85 s\n",
            "vaex.export_hdf5\n",
            "1.8539893627166748\n",
            "-----\n",
            "number_of_columns=2048\n",
            "number_of_rows=1024\n",
            "CPU times: user 7.05 ms, sys: 1 µs, total: 7.05 ms\n",
            "Wall time: 7.06 ms\n",
            "(1024, 2048)\n",
            "CPU times: user 3.61 s, sys: 120 ms, total: 3.73 s\n",
            "Wall time: 3.74 s\n",
            "pandas.to_csv\n",
            "3.740309238433838\n",
            "CPU times: user 621 ms, sys: 12.9 ms, total: 634 ms\n",
            "Wall time: 634 ms\n",
            "pandas.read_csv\n",
            "0.6347293853759766\n",
            "CPU times: user 411 ms, sys: 900 µs, total: 412 ms\n",
            "Wall time: 413 ms\n",
            "vaex.from_pandas\n",
            "0.4140641689300537\n",
            "CPU times: user 3.91 s, sys: 184 ms, total: 4.1 s\n",
            "Wall time: 4.06 s\n",
            "vaex.export_hdf5\n",
            "4.05946159362793\n",
            "-----\n",
            "number_of_columns=2048\n",
            "number_of_rows=2048\n",
            "CPU times: user 8.07 ms, sys: 947 µs, total: 9.01 ms\n",
            "Wall time: 9.03 ms\n",
            "(2048, 2048)\n",
            "CPU times: user 7.29 s, sys: 186 ms, total: 7.48 s\n",
            "Wall time: 7.5 s\n",
            "pandas.to_csv\n",
            "7.503064393997192\n",
            "CPU times: user 1.16 s, sys: 25.8 ms, total: 1.18 s\n",
            "Wall time: 1.18 s\n",
            "pandas.read_csv\n",
            "1.1836044788360596\n",
            "CPU times: user 475 ms, sys: 3.88 ms, total: 479 ms\n",
            "Wall time: 480 ms\n",
            "vaex.from_pandas\n",
            "0.48084020614624023\n",
            "CPU times: user 4.04 s, sys: 192 ms, total: 4.23 s\n",
            "Wall time: 4.19 s\n",
            "vaex.export_hdf5\n",
            "4.194630146026611\n",
            "-----\n",
            "number_of_columns=2048\n",
            "number_of_rows=4096\n",
            "CPU times: user 15.7 ms, sys: 0 ns, total: 15.7 ms\n",
            "Wall time: 15.7 ms\n",
            "(4096, 2048)\n",
            "CPU times: user 14.3 s, sys: 369 ms, total: 14.6 s\n",
            "Wall time: 14.7 s\n",
            "pandas.to_csv\n",
            "14.683729410171509\n",
            "CPU times: user 2.19 s, sys: 37.5 ms, total: 2.23 s\n",
            "Wall time: 2.23 s\n",
            "pandas.read_csv\n",
            "2.2334508895874023\n",
            "CPU times: user 418 ms, sys: 950 µs, total: 419 ms\n",
            "Wall time: 420 ms\n",
            "vaex.from_pandas\n",
            "0.4205634593963623\n",
            "CPU times: user 4.17 s, sys: 237 ms, total: 4.41 s\n",
            "Wall time: 4.37 s\n",
            "vaex.export_hdf5\n",
            "4.366153001785278\n",
            "-----\n",
            "number_of_columns=2048\n",
            "number_of_rows=8192\n",
            "CPU times: user 30.5 ms, sys: 20 µs, total: 30.5 ms\n",
            "Wall time: 30.5 ms\n",
            "(8192, 2048)\n",
            "CPU times: user 28.6 s, sys: 787 ms, total: 29.4 s\n",
            "Wall time: 29.5 s\n",
            "pandas.to_csv\n",
            "29.46984100341797\n",
            "CPU times: user 4.29 s, sys: 124 ms, total: 4.42 s\n",
            "Wall time: 4.42 s\n",
            "pandas.read_csv\n",
            "4.42078161239624\n",
            "CPU times: user 410 ms, sys: 950 µs, total: 411 ms\n",
            "Wall time: 410 ms\n",
            "vaex.from_pandas\n",
            "0.4112694263458252\n",
            "CPU times: user 4.21 s, sys: 325 ms, total: 4.54 s\n",
            "Wall time: 4.48 s\n",
            "vaex.export_hdf5\n",
            "4.476524591445923\n",
            "-----\n",
            "number_of_columns=2048\n",
            "number_of_rows=16384\n",
            "CPU times: user 34.1 ms, sys: 109 ms, total: 143 ms\n",
            "Wall time: 144 ms\n",
            "(16384, 2048)\n",
            "CPU times: user 57.7 s, sys: 1.58 s, total: 59.3 s\n",
            "Wall time: 59.4 s\n",
            "pandas.to_csv\n",
            "59.40564274787903\n",
            "CPU times: user 8.36 s, sys: 282 ms, total: 8.64 s\n",
            "Wall time: 8.65 s\n",
            "pandas.read_csv\n",
            "8.654242038726807\n",
            "CPU times: user 414 ms, sys: 19 µs, total: 414 ms\n",
            "Wall time: 416 ms\n",
            "vaex.from_pandas\n",
            "0.4172017574310303\n",
            "CPU times: user 4.3 s, sys: 610 ms, total: 4.91 s\n",
            "Wall time: 4.84 s\n",
            "vaex.export_hdf5\n",
            "4.842529535293579\n",
            "-----\n",
            "number_of_columns=4096\n",
            "number_of_rows=1024\n",
            "CPU times: user 13.3 ms, sys: 17 µs, total: 13.3 ms\n",
            "Wall time: 13.4 ms\n",
            "(1024, 4096)\n",
            "CPU times: user 7.25 s, sys: 183 ms, total: 7.44 s\n",
            "Wall time: 7.45 s\n",
            "pandas.to_csv\n",
            "7.451278209686279\n",
            "CPU times: user 1.64 s, sys: 23.9 ms, total: 1.67 s\n",
            "Wall time: 1.67 s\n",
            "pandas.read_csv\n",
            "1.675410509109497\n",
            "CPU times: user 1.75 s, sys: 7.76 ms, total: 1.75 s\n",
            "Wall time: 1.76 s\n",
            "vaex.from_pandas\n",
            "1.75679349899292\n",
            "CPU times: user 11.9 s, sys: 342 ms, total: 12.3 s\n",
            "Wall time: 12.2 s\n",
            "vaex.export_hdf5\n",
            "12.208961009979248\n",
            "-----\n",
            "number_of_columns=4096\n",
            "number_of_rows=2048\n",
            "CPU times: user 17.4 ms, sys: 17 µs, total: 17.4 ms\n",
            "Wall time: 17.4 ms\n",
            "(2048, 4096)\n",
            "CPU times: user 14.7 s, sys: 293 ms, total: 15 s\n",
            "Wall time: 15 s\n",
            "pandas.to_csv\n",
            "15.00313115119934\n",
            "CPU times: user 2.91 s, sys: 42.6 ms, total: 2.95 s\n",
            "Wall time: 2.95 s\n",
            "pandas.read_csv\n",
            "2.954590320587158\n",
            "CPU times: user 1.58 s, sys: 3.72 ms, total: 1.58 s\n",
            "Wall time: 1.58 s\n",
            "vaex.from_pandas\n",
            "1.5834951400756836\n",
            "CPU times: user 11.6 s, sys: 351 ms, total: 12 s\n",
            "Wall time: 11.9 s\n",
            "vaex.export_hdf5\n",
            "11.897785663604736\n",
            "-----\n",
            "number_of_columns=4096\n",
            "number_of_rows=4096\n",
            "CPU times: user 32 ms, sys: 997 µs, total: 33 ms\n",
            "Wall time: 33 ms\n",
            "(4096, 4096)\n",
            "CPU times: user 29.7 s, sys: 715 ms, total: 30.5 s\n",
            "Wall time: 30.5 s\n",
            "pandas.to_csv\n",
            "30.498985767364502\n",
            "CPU times: user 5.7 s, sys: 91.4 ms, total: 5.79 s\n",
            "Wall time: 5.8 s\n",
            "pandas.read_csv\n",
            "5.796931743621826\n",
            "CPU times: user 1.52 s, sys: 0 ns, total: 1.52 s\n",
            "Wall time: 1.52 s\n",
            "vaex.from_pandas\n",
            "1.5226349830627441\n",
            "CPU times: user 12.1 s, sys: 486 ms, total: 12.6 s\n",
            "Wall time: 12.5 s\n",
            "vaex.export_hdf5\n",
            "12.45266342163086\n",
            "-----\n",
            "number_of_columns=4096\n",
            "number_of_rows=8192\n",
            "CPU times: user 59.2 ms, sys: 914 µs, total: 60.1 ms\n",
            "Wall time: 60.1 ms\n",
            "(8192, 4096)\n",
            "CPU times: user 1min, sys: 1.19 s, total: 1min 1s\n",
            "Wall time: 1min 1s\n",
            "pandas.to_csv\n",
            "61.49272084236145\n",
            "CPU times: user 11.2 s, sys: 200 ms, total: 11.4 s\n",
            "Wall time: 11.5 s\n",
            "pandas.read_csv\n",
            "11.477073669433594\n",
            "CPU times: user 1.6 s, sys: 2.85 ms, total: 1.61 s\n",
            "Wall time: 1.61 s\n",
            "vaex.from_pandas\n",
            "1.6100220680236816\n",
            "CPU times: user 12.3 s, sys: 766 ms, total: 13.1 s\n",
            "Wall time: 12.9 s\n",
            "vaex.export_hdf5\n",
            "12.897772073745728\n",
            "-----\n",
            "number_of_columns=4096\n",
            "number_of_rows=16384\n",
            "CPU times: user 68.5 ms, sys: 238 ms, total: 306 ms\n",
            "Wall time: 306 ms\n",
            "(16384, 4096)\n",
            "CPU times: user 1min 58s, sys: 2.69 s, total: 2min 1s\n",
            "Wall time: 2min 1s\n",
            "pandas.to_csv\n",
            "121.45848822593689\n",
            "CPU times: user 21.8 s, sys: 780 ms, total: 22.5 s\n",
            "Wall time: 22.6 s\n",
            "pandas.read_csv\n",
            "22.56672191619873\n",
            "CPU times: user 1.52 s, sys: 0 ns, total: 1.52 s\n",
            "Wall time: 1.53 s\n",
            "vaex.from_pandas\n",
            "1.5258126258850098\n",
            "CPU times: user 12.5 s, sys: 1.28 s, total: 13.8 s\n",
            "Wall time: 13.7 s\n",
            "vaex.export_hdf5\n",
            "13.68608045578003\n",
            "-----\n",
            "number_of_columns=8192\n",
            "number_of_rows=1024\n",
            "CPU times: user 20 ms, sys: 1 ms, total: 21 ms\n",
            "Wall time: 21 ms\n",
            "(1024, 8192)\n",
            "CPU times: user 15.5 s, sys: 246 ms, total: 15.7 s\n",
            "Wall time: 15.8 s\n",
            "pandas.to_csv\n",
            "15.759809732437134\n",
            "CPU times: user 4.48 s, sys: 62.3 ms, total: 4.54 s\n",
            "Wall time: 4.56 s\n",
            "pandas.read_csv\n",
            "4.556397914886475\n",
            "CPU times: user 6.04 s, sys: 68.1 ms, total: 6.11 s\n",
            "Wall time: 6.12 s\n",
            "vaex.from_pandas\n",
            "6.122980356216431\n",
            "CPU times: user 37.5 s, sys: 701 ms, total: 38.2 s\n",
            "Wall time: 38.1 s\n",
            "vaex.export_hdf5\n",
            "38.11824631690979\n",
            "-----\n",
            "number_of_columns=8192\n",
            "number_of_rows=2048\n",
            "CPU times: user 34.3 ms, sys: 0 ns, total: 34.3 ms\n",
            "Wall time: 34.3 ms\n",
            "(2048, 8192)\n",
            "CPU times: user 29.8 s, sys: 342 ms, total: 30.2 s\n",
            "Wall time: 30.2 s\n",
            "pandas.to_csv\n",
            "30.224316596984863\n",
            "CPU times: user 8.31 s, sys: 108 ms, total: 8.41 s\n",
            "Wall time: 8.42 s\n",
            "pandas.read_csv\n",
            "8.422831535339355\n",
            "CPU times: user 6.29 s, sys: 8.33 ms, total: 6.3 s\n",
            "Wall time: 6.3 s\n",
            "vaex.from_pandas\n",
            "6.305514812469482\n",
            "CPU times: user 37.4 s, sys: 808 ms, total: 38.2 s\n",
            "Wall time: 38.1 s\n",
            "vaex.export_hdf5\n",
            "38.081759452819824\n",
            "-----\n",
            "number_of_columns=8192\n",
            "number_of_rows=4096\n",
            "CPU times: user 61.2 ms, sys: 954 µs, total: 62.2 ms\n",
            "Wall time: 62.2 ms\n",
            "(4096, 8192)\n",
            "CPU times: user 59.7 s, sys: 686 ms, total: 1min\n",
            "Wall time: 1min\n",
            "pandas.to_csv\n",
            "60.45004487037659\n",
            "CPU times: user 16.4 s, sys: 222 ms, total: 16.6 s\n",
            "Wall time: 16.6 s\n",
            "pandas.read_csv\n",
            "16.638773918151855\n",
            "CPU times: user 6.23 s, sys: 5.49 ms, total: 6.23 s\n",
            "Wall time: 6.24 s\n",
            "vaex.from_pandas\n",
            "6.244675874710083\n",
            "CPU times: user 37.6 s, sys: 1.11 s, total: 38.7 s\n",
            "Wall time: 38.5 s\n",
            "vaex.export_hdf5\n",
            "38.52930045127869\n",
            "-----\n",
            "number_of_columns=8192\n",
            "number_of_rows=8192\n",
            "CPU times: user 119 ms, sys: 981 µs, total: 120 ms\n",
            "Wall time: 120 ms\n",
            "(8192, 8192)\n",
            "CPU times: user 2min, sys: 1.21 s, total: 2min 1s\n",
            "Wall time: 2min 1s\n",
            "pandas.to_csv\n",
            "121.55148243904114\n",
            "CPU times: user 32.2 s, sys: 1.17 s, total: 33.4 s\n",
            "Wall time: 33.5 s\n",
            "pandas.read_csv\n",
            "33.45320248603821\n",
            "CPU times: user 6.3 s, sys: 9.62 ms, total: 6.31 s\n",
            "Wall time: 6.32 s\n",
            "vaex.from_pandas\n",
            "6.317906379699707\n",
            "CPU times: user 38.1 s, sys: 1.26 s, total: 39.4 s\n",
            "Wall time: 39.2 s\n",
            "vaex.export_hdf5\n",
            "39.198002576828\n",
            "-----\n",
            "number_of_columns=8192\n",
            "number_of_rows=16384\n",
            "CPU times: user 138 ms, sys: 722 ms, total: 860 ms\n",
            "Wall time: 863 ms\n",
            "(16384, 8192)\n",
            "CPU times: user 3min 53s, sys: 2.27 s, total: 3min 55s\n",
            "Wall time: 3min 55s\n",
            "pandas.to_csv\n",
            "235.60706400871277\n",
            "CPU times: user 1min 5s, sys: 2.09 s, total: 1min 7s\n",
            "Wall time: 1min 7s\n",
            "pandas.read_csv\n",
            "67.20192623138428\n",
            "CPU times: user 6.19 s, sys: 10.9 ms, total: 6.2 s\n",
            "Wall time: 6.21 s\n",
            "vaex.from_pandas\n",
            "6.210753917694092\n",
            "CPU times: user 38.5 s, sys: 2.03 s, total: 40.6 s\n",
            "Wall time: 41 s\n",
            "vaex.export_hdf5\n",
            "41.01442551612854\n",
            "-----\n",
            "number_of_columns=16384\n",
            "number_of_rows=1024\n",
            "CPU times: user 26.9 ms, sys: 64.1 ms, total: 91 ms\n",
            "Wall time: 91 ms\n",
            "(1024, 16384)\n",
            "CPU times: user 31.5 s, sys: 506 ms, total: 32 s\n",
            "Wall time: 32 s\n",
            "pandas.to_csv\n",
            "32.03685283660889\n",
            "CPU times: user 14 s, sys: 185 ms, total: 14.2 s\n",
            "Wall time: 14.2 s\n",
            "pandas.read_csv\n",
            "14.197740077972412\n",
            "CPU times: user 23.4 s, sys: 39.6 ms, total: 23.4 s\n",
            "Wall time: 23.4 s\n",
            "vaex.from_pandas\n",
            "23.44636583328247\n",
            "CPU times: user 2min 9s, sys: 1.44 s, total: 2min 10s\n",
            "Wall time: 2min 10s\n",
            "vaex.export_hdf5\n",
            "130.82045722007751\n",
            "-----\n",
            "number_of_columns=16384\n",
            "number_of_rows=2048\n",
            "CPU times: user 68.7 ms, sys: 6 ms, total: 74.7 ms\n",
            "Wall time: 74.8 ms\n",
            "(2048, 16384)\n",
            "CPU times: user 1min 2s, sys: 520 ms, total: 1min 3s\n",
            "Wall time: 1min 3s\n",
            "pandas.to_csv\n",
            "63.53152251243591\n",
            "CPU times: user 27.3 s, sys: 299 ms, total: 27.6 s\n",
            "Wall time: 27.7 s\n",
            "pandas.read_csv\n",
            "27.65893244743347\n",
            "CPU times: user 23.6 s, sys: 10.6 ms, total: 23.7 s\n",
            "Wall time: 23.7 s\n",
            "vaex.from_pandas\n",
            "23.700457334518433\n",
            "CPU times: user 2min 12s, sys: 1.7 s, total: 2min 13s\n",
            "Wall time: 2min 13s\n",
            "vaex.export_hdf5\n",
            "133.6746301651001\n",
            "-----\n",
            "number_of_columns=16384\n",
            "number_of_rows=4096\n",
            "CPU times: user 149 ms, sys: 973 µs, total: 150 ms\n",
            "Wall time: 151 ms\n",
            "(4096, 16384)\n",
            "CPU times: user 2min 6s, sys: 1.8 s, total: 2min 8s\n",
            "Wall time: 2min 8s\n",
            "pandas.to_csv\n",
            "128.28363943099976\n",
            "CPU times: user 55 s, sys: 1.04 s, total: 56 s\n",
            "Wall time: 56.1 s\n",
            "pandas.read_csv\n",
            "56.11318826675415\n",
            "CPU times: user 23.9 s, sys: 2.71 ms, total: 23.9 s\n",
            "Wall time: 23.9 s\n",
            "vaex.from_pandas\n",
            "23.92850375175476\n",
            "CPU times: user 2min 14s, sys: 2.03 s, total: 2min 16s\n",
            "Wall time: 2min 16s\n",
            "vaex.export_hdf5\n",
            "136.83559346199036\n",
            "-----\n",
            "number_of_columns=16384\n",
            "number_of_rows=8192\n",
            "CPU times: user 373 ms, sys: 1.99 ms, total: 375 ms\n",
            "Wall time: 376 ms\n",
            "(8192, 16384)\n",
            "CPU times: user 4min 13s, sys: 2.41 s, total: 4min 15s\n",
            "Wall time: 4min 16s\n",
            "pandas.to_csv\n",
            "256.39900612831116\n",
            "CPU times: user 1min 49s, sys: 1.92 s, total: 1min 51s\n",
            "Wall time: 1min 51s\n",
            "pandas.read_csv\n",
            "111.78537082672119\n",
            "CPU times: user 24.1 s, sys: 18.1 ms, total: 24.1 s\n",
            "Wall time: 24.1 s\n",
            "vaex.from_pandas\n",
            "24.108890295028687\n",
            "CPU times: user 2min 13s, sys: 2.81 s, total: 2min 16s\n",
            "Wall time: 2min 15s\n",
            "vaex.export_hdf5\n",
            "135.80284070968628\n",
            "-----\n",
            "number_of_columns=16384\n",
            "number_of_rows=16384\n",
            "CPU times: user 364 ms, sys: 1.48 s, total: 1.84 s\n",
            "Wall time: 1.84 s\n",
            "(16384, 16384)\n",
            "CPU times: user 8min 20s, sys: 4.73 s, total: 8min 25s\n",
            "Wall time: 8min 26s\n",
            "pandas.to_csv\n",
            "506.4000632762909\n",
            "CPU times: user 3min 37s, sys: 6.19 s, total: 3min 43s\n",
            "Wall time: 3min 43s\n",
            "pandas.read_csv\n",
            "223.49247455596924\n",
            "CPU times: user 24.5 s, sys: 24.2 ms, total: 24.5 s\n",
            "Wall time: 24.5 s\n",
            "vaex.from_pandas\n",
            "24.52246403694153\n",
            "CPU times: user 2min 14s, sys: 4.13 s, total: 2min 18s\n",
            "Wall time: 2min 23s\n",
            "vaex.export_hdf5\n",
            "143.64192628860474\n",
            "CPU times: user 1h 7s, sys: 1min 29s, total: 1h 1min 37s\n",
            "Wall time: 1h 4min 43s\n"
          ],
          "name": "stdout"
        }
      ]
    },
    {
      "cell_type": "markdown",
      "metadata": {
        "id": "0PJlqdNvEHEz",
        "colab_type": "text"
      },
      "source": [
        "vaex利用(ローカルディスク)"
      ]
    },
    {
      "cell_type": "code",
      "metadata": {
        "id": "m1LcBKfFDpKi",
        "colab_type": "code",
        "outputId": "4cf7e574-882b-4bfd-893b-fcd499cdf146",
        "colab": {
          "base_uri": "https://localhost:8080/",
          "height": 1000
        }
      },
      "source": [
        "%%time\n",
        "for number_of_columns in list_of_number_of_columns:\n",
        "  for number_of_rows in list_of_number_of_rows:\n",
        "    print(\"-----\")\n",
        "    print(\"number_of_columns=\" + str(number_of_columns))\n",
        "    print(\"number_of_rows=\" + str(number_of_rows))\n",
        " \n",
        "    hdf5_filename = fileName(number_of_rows,number_of_columns, \".hdf5\")\n",
        "\n",
        "    # vaex.open\n",
        "    startTime = time.time()\n",
        "    %time df_vaex = vaex.open(hdf5_filename)\n",
        "    endTime = time.time()\n",
        "    diffTime = endTime - startTime\n",
        "    vaex_open_local_records.at[number_of_rows,number_of_columns] = diffTime\n",
        "    print(\"vaex.open.local\")\n",
        "    print(diffTime)\n",
        "\n",
        "    # vaex.describe\n",
        "    startTime = time.time()\n",
        "    %time df_vaex.describe()\n",
        "    endTime = time.time()\n",
        "    diffTime = endTime - startTime\n",
        "    vaex_describe_local_records.at[number_of_rows,number_of_columns] = diffTime\n",
        "    print(\"vaex.describe.local\")\n",
        "    print(diffTime)\n",
        "    \n",
        "    df_vaex.close_files()"
      ],
      "execution_count": 9,
      "outputs": [
        {
          "output_type": "stream",
          "text": [
            "-----\n",
            "number_of_columns=1024\n",
            "number_of_rows=1024\n",
            "CPU times: user 424 ms, sys: 36.1 ms, total: 460 ms\n",
            "Wall time: 657 ms\n",
            "vaex.open.local\n",
            "0.658090353012085\n",
            "CPU times: user 6.69 s, sys: 107 ms, total: 6.8 s\n",
            "Wall time: 7.19 s\n",
            "vaex.describe.local\n",
            "7.187653541564941\n",
            "-----\n",
            "number_of_columns=1024\n",
            "number_of_rows=2048\n",
            "CPU times: user 700 ms, sys: 77.7 ms, total: 778 ms\n",
            "Wall time: 5.45 s\n",
            "vaex.open.local\n",
            "5.455069541931152\n",
            "CPU times: user 7.02 s, sys: 95.4 ms, total: 7.11 s\n",
            "Wall time: 8.81 s\n",
            "vaex.describe.local\n",
            "8.80864429473877\n",
            "-----\n",
            "number_of_columns=1024\n",
            "number_of_rows=4096\n",
            "CPU times: user 544 ms, sys: 33.3 ms, total: 578 ms\n",
            "Wall time: 2.56 s\n",
            "vaex.open.local\n",
            "2.5588762760162354\n",
            "CPU times: user 7.21 s, sys: 105 ms, total: 7.31 s\n",
            "Wall time: 12.7 s\n",
            "vaex.describe.local\n",
            "12.700645446777344\n",
            "-----\n",
            "number_of_columns=1024\n",
            "number_of_rows=8192\n",
            "CPU times: user 435 ms, sys: 10 ms, total: 445 ms\n",
            "Wall time: 465 ms\n",
            "vaex.open.local\n",
            "0.4656026363372803\n",
            "CPU times: user 7.5 s, sys: 141 ms, total: 7.65 s\n",
            "Wall time: 13.7 s\n",
            "vaex.describe.local\n",
            "13.676341772079468\n",
            "-----\n",
            "number_of_columns=1024\n",
            "number_of_rows=16384\n",
            "CPU times: user 430 ms, sys: 17 ms, total: 448 ms\n",
            "Wall time: 451 ms\n",
            "vaex.open.local\n",
            "0.4519510269165039\n",
            "CPU times: user 7.21 s, sys: 121 ms, total: 7.33 s\n",
            "Wall time: 7.4 s\n",
            "vaex.describe.local\n",
            "7.400373697280884\n",
            "-----\n",
            "number_of_columns=2048\n",
            "number_of_rows=1024\n",
            "CPU times: user 1.06 s, sys: 32 ms, total: 1.09 s\n",
            "Wall time: 1.09 s\n",
            "vaex.open.local\n",
            "1.0952882766723633\n",
            "CPU times: user 13.4 s, sys: 241 ms, total: 13.7 s\n",
            "Wall time: 13.7 s\n",
            "vaex.describe.local\n",
            "13.722795009613037\n",
            "-----\n",
            "number_of_columns=2048\n",
            "number_of_rows=2048\n",
            "CPU times: user 1.05 s, sys: 17 ms, total: 1.07 s\n",
            "Wall time: 1.07 s\n",
            "vaex.open.local\n",
            "1.0724196434020996\n",
            "CPU times: user 13.4 s, sys: 181 ms, total: 13.6 s\n",
            "Wall time: 13.7 s\n",
            "vaex.describe.local\n",
            "13.660808801651001\n",
            "-----\n",
            "number_of_columns=2048\n",
            "number_of_rows=4096\n",
            "CPU times: user 1.05 s, sys: 29 ms, total: 1.08 s\n",
            "Wall time: 1.08 s\n",
            "vaex.open.local\n",
            "1.080047369003296\n",
            "CPU times: user 13.4 s, sys: 122 ms, total: 13.5 s\n",
            "Wall time: 13.6 s\n",
            "vaex.describe.local\n",
            "13.579534530639648\n",
            "-----\n",
            "number_of_columns=2048\n",
            "number_of_rows=8192\n",
            "CPU times: user 1.02 s, sys: 20 ms, total: 1.04 s\n",
            "Wall time: 1.05 s\n",
            "vaex.open.local\n",
            "1.04787278175354\n",
            "CPU times: user 13.7 s, sys: 185 ms, total: 13.9 s\n",
            "Wall time: 14 s\n",
            "vaex.describe.local\n",
            "13.989555358886719\n",
            "-----\n",
            "number_of_columns=2048\n",
            "number_of_rows=16384\n",
            "CPU times: user 1.04 s, sys: 23 ms, total: 1.06 s\n",
            "Wall time: 1.07 s\n",
            "vaex.open.local\n",
            "1.0665273666381836\n",
            "CPU times: user 14 s, sys: 244 ms, total: 14.3 s\n",
            "Wall time: 14.4 s\n",
            "vaex.describe.local\n",
            "14.37098240852356\n",
            "-----\n",
            "number_of_columns=4096\n",
            "number_of_rows=1024\n",
            "CPU times: user 2.83 s, sys: 60 ms, total: 2.89 s\n",
            "Wall time: 2.9 s\n",
            "vaex.open.local\n",
            "2.9018282890319824\n",
            "CPU times: user 26.3 s, sys: 229 ms, total: 26.5 s\n",
            "Wall time: 26.6 s\n",
            "vaex.describe.local\n",
            "26.580623149871826\n",
            "-----\n",
            "number_of_columns=4096\n",
            "number_of_rows=2048\n",
            "CPU times: user 2.81 s, sys: 55.8 ms, total: 2.87 s\n",
            "Wall time: 2.88 s\n",
            "vaex.open.local\n",
            "2.87851881980896\n",
            "CPU times: user 26.4 s, sys: 230 ms, total: 26.7 s\n",
            "Wall time: 26.8 s\n",
            "vaex.describe.local\n",
            "26.76146173477173\n",
            "-----\n",
            "number_of_columns=4096\n",
            "number_of_rows=4096\n",
            "CPU times: user 2.81 s, sys: 55.8 ms, total: 2.87 s\n",
            "Wall time: 2.88 s\n",
            "vaex.open.local\n",
            "2.8792550563812256\n",
            "CPU times: user 26.5 s, sys: 264 ms, total: 26.8 s\n",
            "Wall time: 26.9 s\n",
            "vaex.describe.local\n",
            "26.92469310760498\n",
            "-----\n",
            "number_of_columns=4096\n",
            "number_of_rows=8192\n",
            "CPU times: user 2.78 s, sys: 53.8 ms, total: 2.83 s\n",
            "Wall time: 2.85 s\n",
            "vaex.open.local\n",
            "2.84706449508667\n",
            "CPU times: user 27.3 s, sys: 345 ms, total: 27.6 s\n",
            "Wall time: 27.8 s\n",
            "vaex.describe.local\n",
            "27.754360675811768\n",
            "-----\n",
            "number_of_columns=4096\n",
            "number_of_rows=16384\n",
            "CPU times: user 2.85 s, sys: 55.9 ms, total: 2.91 s\n",
            "Wall time: 2.92 s\n",
            "vaex.open.local\n",
            "2.923016309738159\n",
            "CPU times: user 28.2 s, sys: 399 ms, total: 28.6 s\n",
            "Wall time: 28.9 s\n",
            "vaex.describe.local\n",
            "28.878692388534546\n",
            "-----\n",
            "number_of_columns=8192\n",
            "number_of_rows=1024\n",
            "CPU times: user 8.68 s, sys: 114 ms, total: 8.8 s\n",
            "Wall time: 8.82 s\n",
            "vaex.open.local\n",
            "8.816057682037354\n",
            "CPU times: user 51.6 s, sys: 399 ms, total: 52 s\n",
            "Wall time: 52.2 s\n",
            "vaex.describe.local\n",
            "52.175010681152344\n",
            "-----\n",
            "number_of_columns=8192\n",
            "number_of_rows=2048\n",
            "CPU times: user 8.53 s, sys: 89.7 ms, total: 8.62 s\n",
            "Wall time: 8.64 s\n",
            "vaex.open.local\n",
            "8.637056827545166\n",
            "CPU times: user 51.6 s, sys: 437 ms, total: 52 s\n",
            "Wall time: 52.2 s\n",
            "vaex.describe.local\n",
            "52.15530252456665\n",
            "-----\n",
            "number_of_columns=8192\n",
            "number_of_rows=4096\n",
            "CPU times: user 8.77 s, sys: 95.8 ms, total: 8.87 s\n",
            "Wall time: 8.89 s\n",
            "vaex.open.local\n",
            "8.886619329452515\n",
            "CPU times: user 52.5 s, sys: 495 ms, total: 53 s\n",
            "Wall time: 53.2 s\n",
            "vaex.describe.local\n",
            "53.216787338256836\n",
            "-----\n",
            "number_of_columns=8192\n",
            "number_of_rows=8192\n",
            "CPU times: user 8.55 s, sys: 108 ms, total: 8.66 s\n",
            "Wall time: 8.69 s\n",
            "vaex.open.local\n",
            "8.694983720779419\n",
            "CPU times: user 53.3 s, sys: 619 ms, total: 53.9 s\n",
            "Wall time: 54.2 s\n",
            "vaex.describe.local\n",
            "54.24108695983887\n",
            "-----\n",
            "number_of_columns=8192\n",
            "number_of_rows=16384\n",
            "CPU times: user 8.91 s, sys: 115 ms, total: 9.03 s\n",
            "Wall time: 9.05 s\n",
            "vaex.open.local\n",
            "9.04824161529541\n",
            "CPU times: user 55.6 s, sys: 865 ms, total: 56.5 s\n",
            "Wall time: 56.9 s\n",
            "vaex.describe.local\n",
            "56.858195781707764\n",
            "-----\n",
            "number_of_columns=16384\n",
            "number_of_rows=1024\n",
            "CPU times: user 27.3 s, sys: 236 ms, total: 27.6 s\n",
            "Wall time: 27.6 s\n",
            "vaex.open.local\n",
            "27.628849506378174\n",
            "CPU times: user 1min 42s, sys: 846 ms, total: 1min 43s\n",
            "Wall time: 1min 44s\n",
            "vaex.describe.local\n",
            "104.05223798751831\n",
            "-----\n",
            "number_of_columns=16384\n",
            "number_of_rows=2048\n",
            "CPU times: user 29.2 s, sys: 174 ms, total: 29.3 s\n",
            "Wall time: 29.4 s\n",
            "vaex.open.local\n",
            "29.385874032974243\n",
            "CPU times: user 1min 44s, sys: 894 ms, total: 1min 45s\n",
            "Wall time: 1min 45s\n",
            "vaex.describe.local\n",
            "105.342449426651\n",
            "-----\n",
            "number_of_columns=16384\n",
            "number_of_rows=4096\n",
            "CPU times: user 29.4 s, sys: 196 ms, total: 29.6 s\n",
            "Wall time: 29.7 s\n",
            "vaex.open.local\n",
            "29.657335996627808\n",
            "CPU times: user 1min 44s, sys: 986 ms, total: 1min 45s\n",
            "Wall time: 1min 46s\n",
            "vaex.describe.local\n",
            "106.20580983161926\n",
            "-----\n",
            "number_of_columns=16384\n",
            "number_of_rows=8192\n",
            "CPU times: user 29 s, sys: 269 ms, total: 29.2 s\n",
            "Wall time: 29.7 s\n",
            "vaex.open.local\n",
            "29.700137615203857\n",
            "CPU times: user 1min 47s, sys: 1.16 s, total: 1min 48s\n",
            "Wall time: 1min 48s\n",
            "vaex.describe.local\n",
            "108.65578556060791\n",
            "-----\n",
            "number_of_columns=16384\n",
            "number_of_rows=16384\n",
            "CPU times: user 29 s, sys: 246 ms, total: 29.2 s\n",
            "Wall time: 29.3 s\n",
            "vaex.open.local\n",
            "29.32096028327942\n",
            "CPU times: user 1min 51s, sys: 1.68 s, total: 1min 52s\n",
            "Wall time: 1min 53s\n",
            "vaex.describe.local\n",
            "113.6016993522644\n",
            "CPU times: user 20min 43s, sys: 13.7 s, total: 20min 57s\n",
            "Wall time: 21min 22s\n"
          ],
          "name": "stdout"
        }
      ]
    },
    {
      "cell_type": "markdown",
      "metadata": {
        "id": "mIy937RWELNt",
        "colab_type": "text"
      },
      "source": [
        "結果保存"
      ]
    },
    {
      "cell_type": "code",
      "metadata": {
        "id": "cBwRtmvaFmGg",
        "colab_type": "code",
        "outputId": "26dd88cd-219d-4bab-9112-c1c92b02e75d",
        "colab": {
          "base_uri": "https://localhost:8080/",
          "height": 52
        }
      },
      "source": [
        "%%time\n",
        "def moveGlob(src_path_pattern, dst_path, recursive=True):\n",
        "    for f in glob.glob(src_path_pattern, recursive=recursive):\n",
        "        dest_filename = os.path.join(dst_path, f)\n",
        "        if os.path.exists(dest_filename):\n",
        "          os.remove(dest_filename)\n",
        "        shutil.move(f, dst_path)\n",
        "        \n",
        "moveGlob(\"*.hdf5\", save_dir)"
      ],
      "execution_count": 10,
      "outputs": [
        {
          "output_type": "stream",
          "text": [
            "CPU times: user 3.42 s, sys: 8.45 s, total: 11.9 s\n",
            "Wall time: 2min 6s\n"
          ],
          "name": "stdout"
        }
      ]
    },
    {
      "cell_type": "markdown",
      "metadata": {
        "id": "4OI0hxkgcx40",
        "colab_type": "text"
      },
      "source": [
        "vaex利用(Google Drive)"
      ]
    },
    {
      "cell_type": "code",
      "metadata": {
        "id": "grborGB8cxiX",
        "colab_type": "code",
        "outputId": "873adb20-d06b-4ef4-c0c8-9bf620ff3da5",
        "colab": {
          "base_uri": "https://localhost:8080/",
          "height": 1000
        }
      },
      "source": [
        "%%time\n",
        "for number_of_columns in list_of_number_of_columns:\n",
        "  for number_of_rows in list_of_number_of_rows:\n",
        "    print(\"-----\")\n",
        "    print(\"number_of_columns=\" + str(number_of_columns))\n",
        "    print(\"number_of_rows=\" + str(number_of_rows))\n",
        " \n",
        "    hdf5_filename = os.path.join(save_dir, fileName(number_of_rows,number_of_columns, \".hdf5\"))\n",
        "\n",
        "    # vaex.open\n",
        "    startTime = time.time()\n",
        "    %time df_vaex = vaex.open(hdf5_filename)\n",
        "    endTime = time.time()\n",
        "    diffTime = endTime - startTime\n",
        "    vaex_open_gdrive_records.at[number_of_rows,number_of_columns] = diffTime\n",
        "    print(\"vaex.open.gdrive\")\n",
        "    print(diffTime)\n",
        "\n",
        "    # vaex.describe\n",
        "    startTime = time.time()\n",
        "    %time df_vaex.describe()\n",
        "    endTime = time.time()\n",
        "    diffTime = endTime - startTime\n",
        "    vaex_describe_gdrive_records.at[number_of_rows,number_of_columns] = diffTime\n",
        "    print(\"vaex.describe.gdrive\")\n",
        "    print(diffTime)\n",
        "    \n",
        "    df_vaex.close_files()"
      ],
      "execution_count": 11,
      "outputs": [
        {
          "output_type": "stream",
          "text": [
            "-----\n",
            "number_of_columns=1024\n",
            "number_of_rows=1024\n",
            "CPU times: user 473 ms, sys: 21.1 ms, total: 494 ms\n",
            "Wall time: 539 ms\n",
            "vaex.open.gdrive\n",
            "0.5399222373962402\n",
            "CPU times: user 7.22 s, sys: 346 ms, total: 7.56 s\n",
            "Wall time: 7.58 s\n",
            "vaex.describe.gdrive\n",
            "7.582916498184204\n",
            "-----\n",
            "number_of_columns=1024\n",
            "number_of_rows=2048\n",
            "CPU times: user 456 ms, sys: 19.1 ms, total: 475 ms\n",
            "Wall time: 525 ms\n",
            "vaex.open.gdrive\n",
            "0.5259506702423096\n",
            "CPU times: user 6.47 s, sys: 42.5 ms, total: 6.51 s\n",
            "Wall time: 6.52 s\n",
            "vaex.describe.gdrive\n",
            "6.524855375289917\n",
            "-----\n",
            "number_of_columns=1024\n",
            "number_of_rows=4096\n",
            "CPU times: user 479 ms, sys: 27.2 ms, total: 506 ms\n",
            "Wall time: 576 ms\n",
            "vaex.open.gdrive\n",
            "0.5765745639801025\n",
            "CPU times: user 6.45 s, sys: 84.3 ms, total: 6.53 s\n",
            "Wall time: 6.56 s\n",
            "vaex.describe.gdrive\n",
            "6.559494972229004\n",
            "-----\n",
            "number_of_columns=1024\n",
            "number_of_rows=8192\n",
            "CPU times: user 499 ms, sys: 26.8 ms, total: 526 ms\n",
            "Wall time: 608 ms\n",
            "vaex.open.gdrive\n",
            "0.608574390411377\n",
            "CPU times: user 6.62 s, sys: 71.2 ms, total: 6.69 s\n",
            "Wall time: 6.72 s\n",
            "vaex.describe.gdrive\n",
            "6.7221839427948\n",
            "-----\n",
            "number_of_columns=1024\n",
            "number_of_rows=16384\n",
            "CPU times: user 448 ms, sys: 40.1 ms, total: 488 ms\n",
            "Wall time: 538 ms\n",
            "vaex.open.gdrive\n",
            "0.5394132137298584\n",
            "CPU times: user 6.83 s, sys: 102 ms, total: 6.94 s\n",
            "Wall time: 7.03 s\n",
            "vaex.describe.gdrive\n",
            "7.0280601978302\n",
            "-----\n",
            "number_of_columns=2048\n",
            "number_of_rows=1024\n",
            "CPU times: user 1.08 s, sys: 35.4 ms, total: 1.12 s\n",
            "Wall time: 1.19 s\n",
            "vaex.open.gdrive\n",
            "1.1958589553833008\n",
            "CPU times: user 12.9 s, sys: 103 ms, total: 13 s\n",
            "Wall time: 13 s\n",
            "vaex.describe.gdrive\n",
            "13.013694047927856\n",
            "-----\n",
            "number_of_columns=2048\n",
            "number_of_rows=2048\n",
            "CPU times: user 1.09 s, sys: 60.5 ms, total: 1.15 s\n",
            "Wall time: 1.24 s\n",
            "vaex.open.gdrive\n",
            "1.238886833190918\n",
            "CPU times: user 13 s, sys: 85.9 ms, total: 13.1 s\n",
            "Wall time: 13.2 s\n",
            "vaex.describe.gdrive\n",
            "13.15769362449646\n",
            "-----\n",
            "number_of_columns=2048\n",
            "number_of_rows=4096\n",
            "CPU times: user 1.2 s, sys: 60.7 ms, total: 1.26 s\n",
            "Wall time: 2.09 s\n",
            "vaex.open.gdrive\n",
            "2.0931408405303955\n",
            "CPU times: user 13 s, sys: 108 ms, total: 13.1 s\n",
            "Wall time: 13.2 s\n",
            "vaex.describe.gdrive\n",
            "13.200618505477905\n",
            "-----\n",
            "number_of_columns=2048\n",
            "number_of_rows=8192\n",
            "CPU times: user 1.11 s, sys: 74.2 ms, total: 1.18 s\n",
            "Wall time: 1.27 s\n",
            "vaex.open.gdrive\n",
            "1.2760288715362549\n",
            "CPU times: user 13.3 s, sys: 136 ms, total: 13.5 s\n",
            "Wall time: 13.5 s\n",
            "vaex.describe.gdrive\n",
            "13.55012822151184\n",
            "-----\n",
            "number_of_columns=2048\n",
            "number_of_rows=16384\n",
            "CPU times: user 1.18 s, sys: 53.7 ms, total: 1.23 s\n",
            "Wall time: 2.24 s\n",
            "vaex.open.gdrive\n",
            "2.238570213317871\n",
            "CPU times: user 14 s, sys: 184 ms, total: 14.2 s\n",
            "Wall time: 14.4 s\n",
            "vaex.describe.gdrive\n",
            "14.426972389221191\n",
            "-----\n",
            "number_of_columns=4096\n",
            "number_of_rows=1024\n",
            "CPU times: user 2.9 s, sys: 98.3 ms, total: 3 s\n",
            "Wall time: 3.74 s\n",
            "vaex.open.gdrive\n",
            "3.7399353981018066\n",
            "CPU times: user 25.8 s, sys: 195 ms, total: 26 s\n",
            "Wall time: 26 s\n",
            "vaex.describe.gdrive\n",
            "26.028638124465942\n",
            "-----\n",
            "number_of_columns=4096\n",
            "number_of_rows=2048\n",
            "CPU times: user 2.87 s, sys: 99.5 ms, total: 2.97 s\n",
            "Wall time: 3.14 s\n",
            "vaex.open.gdrive\n",
            "3.139862537384033\n",
            "CPU times: user 26 s, sys: 222 ms, total: 26.3 s\n",
            "Wall time: 26.3 s\n",
            "vaex.describe.gdrive\n",
            "26.347987174987793\n",
            "-----\n",
            "number_of_columns=4096\n",
            "number_of_rows=4096\n",
            "CPU times: user 2.9 s, sys: 149 ms, total: 3.05 s\n",
            "Wall time: 3.26 s\n",
            "vaex.open.gdrive\n",
            "3.262646198272705\n",
            "CPU times: user 26.4 s, sys: 215 ms, total: 26.6 s\n",
            "Wall time: 26.8 s\n",
            "vaex.describe.gdrive\n",
            "26.79860806465149\n",
            "-----\n",
            "number_of_columns=4096\n",
            "number_of_rows=8192\n",
            "CPU times: user 2.94 s, sys: 131 ms, total: 3.07 s\n",
            "Wall time: 3.28 s\n",
            "vaex.open.gdrive\n",
            "3.2768993377685547\n",
            "CPU times: user 27 s, sys: 285 ms, total: 27.3 s\n",
            "Wall time: 27.5 s\n",
            "vaex.describe.gdrive\n",
            "27.463216304779053\n",
            "-----\n",
            "number_of_columns=4096\n",
            "number_of_rows=16384\n",
            "CPU times: user 3.34 s, sys: 192 ms, total: 3.53 s\n",
            "Wall time: 3.89 s\n",
            "vaex.open.gdrive\n",
            "3.8958966732025146\n",
            "CPU times: user 28 s, sys: 388 ms, total: 28.3 s\n",
            "Wall time: 28.5 s\n",
            "vaex.describe.gdrive\n",
            "28.54872989654541\n",
            "-----\n",
            "number_of_columns=8192\n",
            "number_of_rows=1024\n",
            "CPU times: user 8.99 s, sys: 179 ms, total: 9.17 s\n",
            "Wall time: 9.55 s\n",
            "vaex.open.gdrive\n",
            "9.550156354904175\n",
            "CPU times: user 52.9 s, sys: 402 ms, total: 53.3 s\n",
            "Wall time: 53.4 s\n",
            "vaex.describe.gdrive\n",
            "53.39436721801758\n",
            "-----\n",
            "number_of_columns=8192\n",
            "number_of_rows=2048\n",
            "CPU times: user 9.04 s, sys: 221 ms, total: 9.26 s\n",
            "Wall time: 11.6 s\n",
            "vaex.open.gdrive\n",
            "11.606101274490356\n",
            "CPU times: user 52.8 s, sys: 394 ms, total: 53.1 s\n",
            "Wall time: 53.3 s\n",
            "vaex.describe.gdrive\n",
            "53.28152418136597\n",
            "-----\n",
            "number_of_columns=8192\n",
            "number_of_rows=4096\n",
            "CPU times: user 9.12 s, sys: 234 ms, total: 9.35 s\n",
            "Wall time: 10.1 s\n",
            "vaex.open.gdrive\n",
            "10.060373783111572\n",
            "CPU times: user 54.1 s, sys: 447 ms, total: 54.6 s\n",
            "Wall time: 54.8 s\n",
            "vaex.describe.gdrive\n",
            "54.7960319519043\n",
            "-----\n",
            "number_of_columns=8192\n",
            "number_of_rows=8192\n",
            "CPU times: user 9.14 s, sys: 349 ms, total: 9.49 s\n",
            "Wall time: 10.1 s\n",
            "vaex.open.gdrive\n",
            "10.144093751907349\n",
            "CPU times: user 54.4 s, sys: 545 ms, total: 55 s\n",
            "Wall time: 55.2 s\n",
            "vaex.describe.gdrive\n",
            "55.2051157951355\n",
            "-----\n",
            "number_of_columns=8192\n",
            "number_of_rows=16384\n",
            "CPU times: user 9.29 s, sys: 254 ms, total: 9.55 s\n",
            "Wall time: 13.6 s\n",
            "vaex.open.gdrive\n",
            "13.594250679016113\n",
            "CPU times: user 56.3 s, sys: 756 ms, total: 57.1 s\n",
            "Wall time: 57.8 s\n",
            "vaex.describe.gdrive\n",
            "57.83330011367798\n",
            "-----\n",
            "number_of_columns=16384\n",
            "number_of_rows=1024\n",
            "CPU times: user 27.5 s, sys: 379 ms, total: 27.9 s\n",
            "Wall time: 30.7 s\n",
            "vaex.open.gdrive\n",
            "30.741107940673828\n",
            "CPU times: user 1min 45s, sys: 731 ms, total: 1min 45s\n",
            "Wall time: 1min 46s\n",
            "vaex.describe.gdrive\n",
            "106.17236685752869\n",
            "-----\n",
            "number_of_columns=16384\n",
            "number_of_rows=2048\n",
            "CPU times: user 28.3 s, sys: 532 ms, total: 28.8 s\n",
            "Wall time: 34.5 s\n",
            "vaex.open.gdrive\n",
            "34.503114461898804\n",
            "CPU times: user 1min 46s, sys: 853 ms, total: 1min 47s\n",
            "Wall time: 1min 47s\n",
            "vaex.describe.gdrive\n",
            "107.55601978302002\n",
            "-----\n",
            "number_of_columns=16384\n",
            "number_of_rows=4096\n",
            "CPU times: user 27.9 s, sys: 530 ms, total: 28.4 s\n",
            "Wall time: 36.3 s\n",
            "vaex.open.gdrive\n",
            "36.344454288482666\n",
            "CPU times: user 1min 48s, sys: 1.01 s, total: 1min 49s\n",
            "Wall time: 1min 49s\n",
            "vaex.describe.gdrive\n",
            "109.8649480342865\n",
            "-----\n",
            "number_of_columns=16384\n",
            "number_of_rows=8192\n",
            "CPU times: user 28.3 s, sys: 593 ms, total: 28.9 s\n",
            "Wall time: 35.7 s\n",
            "vaex.open.gdrive\n",
            "35.667909145355225\n",
            "CPU times: user 1min 50s, sys: 1.26 s, total: 1min 51s\n",
            "Wall time: 1min 52s\n",
            "vaex.describe.gdrive\n",
            "112.30664157867432\n",
            "-----\n",
            "number_of_columns=16384\n",
            "number_of_rows=16384\n",
            "CPU times: user 27.9 s, sys: 559 ms, total: 28.4 s\n",
            "Wall time: 38.3 s\n",
            "vaex.open.gdrive\n",
            "38.289036989212036\n",
            "CPU times: user 1min 53s, sys: 1.53 s, total: 1min 55s\n",
            "Wall time: 1min 56s\n",
            "vaex.describe.gdrive\n",
            "116.61055755615234\n",
            "CPU times: user 20min 56s, sys: 15.5 s, total: 21min 12s\n",
            "Wall time: 22min 3s\n"
          ],
          "name": "stdout"
        }
      ]
    },
    {
      "cell_type": "code",
      "metadata": {
        "id": "fUASZqL-EN79",
        "colab_type": "code",
        "outputId": "b0364a36-86d6-4bc9-e5bb-4608339cc6b3",
        "colab": {
          "base_uri": "https://localhost:8080/",
          "height": 52
        }
      },
      "source": [
        "%%time\n",
        "def saveRecord(records, filename):\n",
        "  records.to_csv(os.path.join(save_dir,filename))\n",
        "\n",
        "saveRecord(pandas_to_csv_records, \"pandas_to_csv.csv\")\n",
        "saveRecord(pandas_read_csv_records, \"pandas_read_csv.csv\")\n",
        "saveRecord(vaex_from_pandas_records, \"vaex_from_pandas.csv\")\n",
        "saveRecord(vaex_export_hdf5_records, \"vaex_export_hdf5.csv\")\n",
        "saveRecord(vaex_open_local_records, \"vaex_open_local.csv\")\n",
        "saveRecord(vaex_describe_local_records, \"vaex_describe_local.csv\")\n",
        "saveRecord(vaex_open_gdrive_records, \"vaex_open_gdrive.csv\")\n",
        "saveRecord(vaex_describe_gdrive_records, \"vaex_describe_gdrive.csv\")"
      ],
      "execution_count": 12,
      "outputs": [
        {
          "output_type": "stream",
          "text": [
            "CPU times: user 8.8 ms, sys: 3.05 ms, total: 11.8 ms\n",
            "Wall time: 1.21 s\n"
          ],
          "name": "stdout"
        }
      ]
    },
    {
      "cell_type": "markdown",
      "metadata": {
        "colab_type": "text",
        "id": "qjfKcV2nxGvs"
      },
      "source": [
        "pandas.read_csvの時間"
      ]
    },
    {
      "cell_type": "code",
      "metadata": {
        "colab_type": "code",
        "id": "66CKRZoZVrCh",
        "outputId": "aa31b87a-54f4-438d-b1c3-0305d7f168f5",
        "colab": {
          "base_uri": "https://localhost:8080/",
          "height": 312
        }
      },
      "source": [
        "%matplotlib inline\n",
        "import matplotlib.pyplot as plt\n",
        "plt.title(\"pandas.read_csv\")\n",
        "plt.xlabel(\"column\")\n",
        "\n",
        "for row_number in list_of_number_of_rows:\n",
        "  line_label = \"row:\"+ str(row_number)\n",
        "  x = list_of_number_of_columns\n",
        "  y = pandas_read_csv_records.loc[row_number,:]\n",
        "  plt.plot(x,y, label=line_label)\n",
        "plt.legend()"
      ],
      "execution_count": 13,
      "outputs": [
        {
          "output_type": "execute_result",
          "data": {
            "text/plain": [
              "<matplotlib.legend.Legend at 0x7f3a5199eba8>"
            ]
          },
          "metadata": {
            "tags": []
          },
          "execution_count": 13
        },
        {
          "output_type": "display_data",
          "data": {
            "image/png": "[encoded data removed]",
            "text/plain": [
              "<Figure size 432x288 with 1 Axes>"
            ]
          },
          "metadata": {
            "tags": []
          }
        }
      ]
    },
    {
      "cell_type": "code",
      "metadata": {
        "id": "gVd6zPVeHiea",
        "colab_type": "code",
        "outputId": "6e3a0a4e-0cbe-425a-f461-ed29fb213a71",
        "colab": {
          "base_uri": "https://localhost:8080/",
          "height": 312
        }
      },
      "source": [
        "%matplotlib inline\n",
        "import matplotlib.pyplot as plt\n",
        "plt.title(\"pandas.read_csv\")\n",
        "plt.xlabel(\"row\")\n",
        "\n",
        "for column_number in list_of_number_of_columns:\n",
        "  line_label = \"column:\"+ str(column_number)\n",
        "  x = list_of_number_of_rows\n",
        "  y = pandas_read_csv_records.loc[:,column_number]\n",
        "  plt.plot(x,y, label=line_label)\n",
        "plt.legend()"
      ],
      "execution_count": 14,
      "outputs": [
        {
          "output_type": "execute_result",
          "data": {
            "text/plain": [
              "<matplotlib.legend.Legend at 0x7f3a51704518>"
            ]
          },
          "metadata": {
            "tags": []
          },
          "execution_count": 14
        },
        {
          "output_type": "display_data",
          "data": {
            "image/png": "[encoded data removed]",
            "text/plain": [
              "<Figure size 432x288 with 1 Axes>"
            ]
          },
          "metadata": {
            "tags": []
          }
        }
      ]
    },
    {
      "cell_type": "markdown",
      "metadata": {
        "id": "8FTVCdBrHiec",
        "colab_type": "text"
      },
      "source": [
        "vaex.open (ローカルディスク)"
      ]
    },
    {
      "cell_type": "code",
      "metadata": {
        "id": "BIQmM2uoHied",
        "colab_type": "code",
        "outputId": "c71a69aa-c99d-4cdf-9e66-e69fdb0437bd",
        "colab": {
          "base_uri": "https://localhost:8080/",
          "height": 312
        }
      },
      "source": [
        "%matplotlib inline\n",
        "import matplotlib.pyplot as plt\n",
        "plt.title(\"vaex.open.local\")\n",
        "plt.xlabel(\"column\")\n",
        "\n",
        "for row_number in list_of_number_of_rows:\n",
        "  line_label = \"row:\"+ str(row_number)\n",
        "  x = list_of_number_of_columns\n",
        "  y = vaex_open_local_records.loc[row_number,:]\n",
        "  plt.plot(x,y, label=line_label)\n",
        "plt.legend()"
      ],
      "execution_count": 15,
      "outputs": [
        {
          "output_type": "execute_result",
          "data": {
            "text/plain": [
              "<matplotlib.legend.Legend at 0x7f3a4f9ad5f8>"
            ]
          },
          "metadata": {
            "tags": []
          },
          "execution_count": 15
        },
        {
          "output_type": "display_data",
          "data": {
            "image/png": "[encoded data removed]",
            "text/plain": [
              "<Figure size 432x288 with 1 Axes>"
            ]
          },
          "metadata": {
            "tags": []
          }
        }
      ]
    },
    {
      "cell_type": "code",
      "metadata": {
        "id": "wIV7M-hYHief",
        "colab_type": "code",
        "outputId": "d1f6de12-0fa8-41d2-d606-047603b32726",
        "colab": {
          "base_uri": "https://localhost:8080/",
          "height": 312
        }
      },
      "source": [
        "%matplotlib inline\n",
        "import matplotlib.pyplot as plt\n",
        "plt.title(\"vaex.open.local\")\n",
        "plt.xlabel(\"row\")\n",
        "\n",
        "for column_number in list_of_number_of_columns:\n",
        "  line_label = \"column:\"+ str(column_number)\n",
        "  x = list_of_number_of_rows\n",
        "  y = vaex_open_local_records.loc[:,column_number]\n",
        "  plt.plot(x,y, label=line_label)\n",
        "plt.legend()"
      ],
      "execution_count": 16,
      "outputs": [
        {
          "output_type": "execute_result",
          "data": {
            "text/plain": [
              "<matplotlib.legend.Legend at 0x7f3a504cbdd8>"
            ]
          },
          "metadata": {
            "tags": []
          },
          "execution_count": 16
        },
        {
          "output_type": "display_data",
          "data": {
            "image/png": "[encoded data removed]",
            "text/plain": [
              "<Figure size 432x288 with 1 Axes>"
            ]
          },
          "metadata": {
            "tags": []
          }
        }
      ]
    },
    {
      "cell_type": "markdown",
      "metadata": {
        "id": "WjXLjCYqmptZ",
        "colab_type": "text"
      },
      "source": [
        "vaex.open(Google Drive)"
      ]
    },
    {
      "cell_type": "code",
      "metadata": {
        "id": "SrdjFIZcmxlE",
        "colab_type": "code",
        "outputId": "98a2ac02-a919-430b-cee5-9190fac949ab",
        "colab": {
          "base_uri": "https://localhost:8080/",
          "height": 312
        }
      },
      "source": [
        "%matplotlib inline\n",
        "import matplotlib.pyplot as plt\n",
        "plt.title(\"vaex.open.gdrive\")\n",
        "plt.xlabel(\"column\")\n",
        "\n",
        "for row_number in list_of_number_of_rows:\n",
        "  line_label = \"row:\"+ str(row_number)\n",
        "  x = list_of_number_of_columns\n",
        "  y = vaex_open_gdrive_records.loc[row_number,:]\n",
        "  plt.plot(x,y, label=line_label)\n",
        "plt.legend()"
      ],
      "execution_count": 17,
      "outputs": [
        {
          "output_type": "execute_result",
          "data": {
            "text/plain": [
              "<matplotlib.legend.Legend at 0x7f3a4ff65b70>"
            ]
          },
          "metadata": {
            "tags": []
          },
          "execution_count": 17
        },
        {
          "output_type": "display_data",
          "data": {
            "image/png": "[encoded data removed]",
            "text/plain": [
              "<Figure size 432x288 with 1 Axes>"
            ]
          },
          "metadata": {
            "tags": []
          }
        }
      ]
    },
    {
      "cell_type": "code",
      "metadata": {
        "id": "LSX10jlHmpeK",
        "colab_type": "code",
        "outputId": "ca09839a-81f1-4bb5-8c79-2c52fb387431",
        "colab": {
          "base_uri": "https://localhost:8080/",
          "height": 312
        }
      },
      "source": [
        "%matplotlib inline\n",
        "import matplotlib.pyplot as plt\n",
        "plt.title(\"vaex.open.gdrive\")\n",
        "plt.xlabel(\"row\")\n",
        "\n",
        "for column_number in list_of_number_of_columns:\n",
        "  line_label = \"column:\"+ str(column_number)\n",
        "  x = list_of_number_of_rows\n",
        "  y = vaex_open_gdrive_records.loc[:,column_number]\n",
        "  plt.plot(x,y, label=line_label)\n",
        "plt.legend()"
      ],
      "execution_count": 18,
      "outputs": [
        {
          "output_type": "execute_result",
          "data": {
            "text/plain": [
              "<matplotlib.legend.Legend at 0x7f3a51ad4940>"
            ]
          },
          "metadata": {
            "tags": []
          },
          "execution_count": 18
        },
        {
          "output_type": "display_data",
          "data": {
            "image/png": "[encoded data removed]",
            "text/plain": [
              "<Figure size 432x288 with 1 Axes>"
            ]
          },
          "metadata": {
            "tags": []
          }
        }
      ]
    },
    {
      "cell_type": "markdown",
      "metadata": {
        "colab_type": "text",
        "id": "2z2sWI0gxMQt"
      },
      "source": [
        "vaex.describe計算時間(ローカルディスク)"
      ]
    },
    {
      "cell_type": "code",
      "metadata": {
        "colab_type": "code",
        "id": "pNKTKxrIxLXO",
        "outputId": "bb9f2152-6e0b-4a96-dba3-c92804df03e9",
        "colab": {
          "base_uri": "https://localhost:8080/",
          "height": 312
        }
      },
      "source": [
        "%matplotlib inline\n",
        "import matplotlib.pyplot as plt\n",
        "plt.title(\"vaex.describe.local\")\n",
        "plt.xlabel(\"column\")\n",
        "\n",
        "for row_number in list_of_number_of_rows:\n",
        "  line_label = \"row:\"+ str(row_number)\n",
        "  x = list_of_number_of_columns\n",
        "  y = vaex_describe_local_records.loc[row_number,:]\n",
        "  plt.plot(x,y, label=line_label)\n",
        "plt.legend()"
      ],
      "execution_count": 19,
      "outputs": [
        {
          "output_type": "execute_result",
          "data": {
            "text/plain": [
              "<matplotlib.legend.Legend at 0x7f3a513bb5f8>"
            ]
          },
          "metadata": {
            "tags": []
          },
          "execution_count": 19
        },
        {
          "output_type": "display_data",
          "data": {
            "image/png": "[encoded data removed]",
            "text/plain": [
              "<Figure size 432x288 with 1 Axes>"
            ]
          },
          "metadata": {
            "tags": []
          }
        }
      ]
    },
    {
      "cell_type": "code",
      "metadata": {
        "id": "1h2RzJdMHiek",
        "colab_type": "code",
        "outputId": "80bfe02d-861f-4071-f972-843d7fecfbee",
        "colab": {
          "base_uri": "https://localhost:8080/",
          "height": 312
        }
      },
      "source": [
        "%matplotlib inline\n",
        "import matplotlib.pyplot as plt\n",
        "plt.title(\"vaex.describe.local\")\n",
        "plt.xlabel(\"row\")\n",
        "\n",
        "for column_number in list_of_number_of_columns:\n",
        "  line_label = \"column:\"+ str(column_number)\n",
        "  x = list_of_number_of_rows\n",
        "  y = vaex_describe_local_records.loc[:,column_number]\n",
        "  plt.plot(x,y, label=line_label)\n",
        "plt.legend()"
      ],
      "execution_count": 20,
      "outputs": [
        {
          "output_type": "execute_result",
          "data": {
            "text/plain": [
              "<matplotlib.legend.Legend at 0x7f3a50629ef0>"
            ]
          },
          "metadata": {
            "tags": []
          },
          "execution_count": 20
        },
        {
          "output_type": "display_data",
          "data": {
            "image/png": "[encoded data removed]",
            "text/plain": [
              "<Figure size 432x288 with 1 Axes>"
            ]
          },
          "metadata": {
            "tags": []
          }
        }
      ]
    },
    {
      "cell_type": "code",
      "metadata": {
        "id": "BT5kRHbxmQRd",
        "colab_type": "code",
        "outputId": "976aa831-b851-4e5e-d136-586aad12098d",
        "colab": {
          "base_uri": "https://localhost:8080/",
          "height": 312
        }
      },
      "source": [
        "%matplotlib inline\n",
        "import matplotlib.pyplot as plt\n",
        "plt.title(\"vaex.describe.gdrive\")\n",
        "plt.xlabel(\"column\")\n",
        "\n",
        "for row_number in list_of_number_of_rows:\n",
        "  line_label = \"row:\"+ str(row_number)\n",
        "  x = list_of_number_of_columns\n",
        "  y = vaex_describe_gdrive_records.loc[row_number,:]\n",
        "  plt.plot(x,y, label=line_label)\n",
        "plt.legend()"
      ],
      "execution_count": 21,
      "outputs": [
        {
          "output_type": "execute_result",
          "data": {
            "text/plain": [
              "<matplotlib.legend.Legend at 0x7f3a517f6780>"
            ]
          },
          "metadata": {
            "tags": []
          },
          "execution_count": 21
        },
        {
          "output_type": "display_data",
          "data": {
            "image/png": "[encoded data removed]",
            "text/plain": [
              "<Figure size 432x288 with 1 Axes>"
            ]
          },
          "metadata": {
            "tags": []
          }
        }
      ]
    },
    {
      "cell_type": "code",
      "metadata": {
        "id": "qgKaDcxPmIR9",
        "colab_type": "code",
        "outputId": "07d14c15-0e96-4d36-c43a-350a8ea04215",
        "colab": {
          "base_uri": "https://localhost:8080/",
          "height": 312
        }
      },
      "source": [
        "%matplotlib inline\n",
        "import matplotlib.pyplot as plt\n",
        "plt.title(\"vaex.describe.gdrive\")\n",
        "plt.xlabel(\"row\")\n",
        "\n",
        "for column_number in list_of_number_of_columns:\n",
        "  line_label = \"column:\"+ str(column_number)\n",
        "  x = list_of_number_of_rows\n",
        "  y = vaex_describe_gdrive_records.loc[:,column_number]\n",
        "  plt.plot(x,y, label=line_label)\n",
        "plt.legend()"
      ],
      "execution_count": 22,
      "outputs": [
        {
          "output_type": "execute_result",
          "data": {
            "text/plain": [
              "<matplotlib.legend.Legend at 0x7f3a4de975f8>"
            ]
          },
          "metadata": {
            "tags": []
          },
          "execution_count": 22
        },
        {
          "output_type": "display_data",
          "data": {
            "image/png": "[encoded data removed]",
            "text/plain": [
              "<Figure size 432x288 with 1 Axes>"
            ]
          },
          "metadata": {
            "tags": []
          }
        }
      ]
    },
    {
      "cell_type": "markdown",
      "metadata": {
        "id": "qyaz43PomQt3",
        "colab_type": "text"
      },
      "source": [
        "vaex.describe計算時間(Google Drive)"
      ]
    },
    {
      "cell_type": "code",
      "metadata": {
        "colab_type": "code",
        "id": "xX2of0H6jDu4",
        "outputId": "11a0303e-f4f0-4f2e-9b1d-2fb8a871ed07",
        "colab": {
          "base_uri": "https://localhost:8080/",
          "height": 321
        }
      },
      "source": [
        "%matplotlib inline\n",
        "import numpy as np\n",
        "import matplotlib.pyplot as plt\n",
        "from mpl_toolkits.mplot3d import Axes3D\n",
        "X, Y = np.meshgrid(list_of_number_of_rows, list_of_number_of_columns, indexing='ij')\n",
        "Z =  vaex_describe_local_records.to_numpy(dtype='float')\n",
        "fig = plt.figure()\n",
        "ax = Axes3D(fig)\n",
        "ax.set_title(\"vaex.describe.local\", fontsize=25)\n",
        "ax.set_xlabel(\"Row\")\n",
        "ax.set_ylabel(\"Column\")\n",
        "ax.set_zlabel(\"Time(s)\")\n",
        "ax.view_init(elev=50, azim=-160)\n",
        "ax.plot_surface(X, Y, Z, cmap='ocean')\n",
        "plt.show()"
      ],
      "execution_count": 23,
      "outputs": [
        {
          "output_type": "display_data",
          "data": {
            "image/png": "[encoded data removed]",
            "text/plain": [
              "<Figure size 432x288 with 1 Axes>"
            ]
          },
          "metadata": {
            "tags": []
          }
        }
      ]
    },
    {
      "cell_type": "code",
      "metadata": {
        "id": "zONFUyjJl5Ou",
        "colab_type": "code",
        "outputId": "3da7c0ce-aa5b-401f-acdd-1a0bca7de33e",
        "colab": {
          "base_uri": "https://localhost:8080/",
          "height": 321
        }
      },
      "source": [
        "%matplotlib inline\n",
        "import numpy as np\n",
        "import matplotlib.pyplot as plt\n",
        "from mpl_toolkits.mplot3d import Axes3D\n",
        "X, Y = np.meshgrid(list_of_number_of_rows, list_of_number_of_columns, indexing='ij')\n",
        "Z =  vaex_describe_gdrive_records.to_numpy(dtype='float')\n",
        "fig = plt.figure()\n",
        "ax = Axes3D(fig)\n",
        "ax.set_title(\"vaex.describe.gdrive\", fontsize=25)\n",
        "ax.set_xlabel(\"Row\")\n",
        "ax.set_ylabel(\"Column\")\n",
        "ax.set_zlabel(\"Time(s)\")\n",
        "ax.view_init(elev=50, azim=-160)\n",
        "ax.plot_surface(X, Y, Z, cmap='ocean')\n",
        "plt.show()"
      ],
      "execution_count": 24,
      "outputs": [
        {
          "output_type": "display_data",
          "data": {
            "image/png": "[encoded data removed]",
            "text/plain": [
              "<Figure size 432x288 with 1 Axes>"
            ]
          },
          "metadata": {
            "tags": []
          }
        }
      ]
    },
    {
      "cell_type": "markdown",
      "metadata": {
        "id": "SnAL_p221waV",
        "colab_type": "text"
      },
      "source": [
        "# ノートブックの保存\n",
        "すべてのセルを実行するようにして、放置してColabのセッションが切れるとしても、最終的に実行後のノートブックが確実に保存されるようにする。"
      ]
    },
    {
      "cell_type": "code",
      "metadata": {
        "id": "ZVHX500JHier",
        "colab_type": "code",
        "outputId": "4fecb7e8-2192-44ed-8b0c-f8177b0ba89f",
        "colab": {
          "base_uri": "https://localhost:8080/",
          "height": 17
        }
      },
      "source": [
        "from IPython.display import display, Javascript\n",
        "display(Javascript('IPython.notebook.save_checkpoint();'))"
      ],
      "execution_count": 25,
      "outputs": [
        {
          "output_type": "display_data",
          "data": {
            "application/javascript": [
              "IPython.notebook.save_checkpoint();"
            ],
            "text/plain": [
              "<IPython.core.display.Javascript object>"
            ]
          },
          "metadata": {
            "tags": []
          }
        }
      ]
    }
  ]
}